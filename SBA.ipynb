{
 "cells": [
  {
   "cell_type": "markdown",
   "metadata": {},
   "source": [
    "# <b> <span style=\"color:navy\"> Credit Alchemy: Small Business Creditworthiness Demystified </b> </span>\n",
    "### Predicting Creditworthiness of Small Businesses"
   ]
  },
  {
   "cell_type": "markdown",
   "metadata": {},
   "source": [
    "<img width=\"1412\" alt=\"s\" src=\"https://github.com/LynneMutwiri/Credit_Worthiness_of_Small_Businesses/assets/124343722/3d6fe1ec-f996-44fc-b064-114ed496841b\">"
   ]
  },
  {
   "cell_type": "markdown",
   "metadata": {},
   "source": [
    "### **Business Overview**\n",
    "\n",
    "The Small Business Administration (SBA) is a crucial organization in the United States that supports and promotes small enterprises by providing access to credit. Through loan guarantees, the SBA encourages lenders to provide credit to small businesses, which play a vital role in job creation and reducing unemployment. However, there have been instances of loan defaults, posing a challenge for the SBA in accurately assessing the creditworthiness of applicants and mitigating risks. To address this, the SBA focuses on evaluating creditworthiness by considering factors such as financial history, business plans, collateral, and projected cash flows. They also strive to adapt to market dynamics, embracing innovative approaches and technology for informed lending decisions that minimize the likelihood of defaults. Overall, the SBA's commitment to supporting small businesses goes beyond loan guarantees, encompassing mentorship programs, training resources, government contracting opportunities, and disaster recovery assistance to foster an environment conducive to small business success.\n",
    "\n",
    "<b> Stakeholders </b>\n",
    "- Government / Lending institutions such as the SBA\n",
    "- Small Businesses"
   ]
  },
  {
   "cell_type": "markdown",
   "metadata": {},
   "source": [
    "### <b> Project Overview </b>\n",
    "\n",
    "This project focuses on utilizing the dataset from the U.S. Small Business Administration to develop a predictive model for loan application approval. By analyzing relevant factors and historical loan data, the project aims to create a reliable system that assists the SBA in making informed decisions while minimizing the risk of defaults. The ultimate goal is to provide the SBA with a robust loan approval model that enhances their ability to make accurate and efficient lending decisions."
   ]
  },
  {
   "cell_type": "markdown",
   "metadata": {},
   "source": [
    "### Project Objectives\n",
    "\n",
    "1. Conduct a comprehensive analysis of the dataset from the U.S. Small Business Administration to identify patterns and trends for accurate loan approval predictions.\n",
    "2. Develop a robust machine learning model that utilizes the identified patterns and trends to predict loan approval outcomes effectively.\n",
    "3. Deploy and evaluate the developed machine learning model in the loan approval process of the U.S. Small Business Administration, continuously optimizing its predictive capabilities for informed lending decisions.\n"
   ]
  },
  {
   "cell_type": "markdown",
   "metadata": {},
   "source": [
    "## <b> Data Understanding </b>\n",
    "\n",
    "The data used to conduct this project was extracted from the official US Small Business Administration open data [source](https://data.sba.gov/dataset/). The data had a total of 899,164 rows and 27 columns. \n",
    "In this section we begin by importing the necessary libraries that will be used throughout the notebook, we then went on to load the datasets, as well as further understanding the data by displaying the summary statistics, as well as checking for missing values. "
   ]
  },
  {
   "cell_type": "code",
   "execution_count": 2,
   "metadata": {},
   "outputs": [],
   "source": [
    "import pandas as pd\n",
    "import numpy as np\n",
    "import matplotlib.pyplot as plt \n",
    "import seaborn as sns\n",
    "import warnings \n",
    "pd.set_option('display.max_columns', None)\n",
    "\n",
    "# Data preprocessing and transformation\n",
    "from sklearn.model_selection import train_test_split\n",
    "from imblearn.over_sampling import RandomOverSampler\n",
    "\n",
    "# Classification model libraries\n",
    "from sklearn.metrics import accuracy_score, precision_score, f1_score\n",
    "from sklearn.tree import DecisionTreeClassifier\n",
    "from sklearn.linear_model import LogisticRegression\n",
    "from sklearn.ensemble import RandomForestClassifier\n",
    "from sklearn import svm\n",
    "from sklearn.linear_model import SGDClassifier\n",
    "from xgboost import XGBClassifier \n",
    "# from keras.models import Sequential\n",
    "# from keras.layers import Dense,Flatten\n",
    "\n",
    "# Grid Search CV\n",
    "from sklearn.model_selection import GridSearchCV\n",
    "\n",
    "# Pipeline and feature selection\n",
    "from sklearn.pipeline import Pipeline"
   ]
  },
  {
   "cell_type": "code",
   "execution_count": 3,
   "metadata": {
    "scrolled": false
   },
   "outputs": [
    {
     "data": {
      "text/html": [
       "<div>\n",
       "<style scoped>\n",
       "    .dataframe tbody tr th:only-of-type {\n",
       "        vertical-align: middle;\n",
       "    }\n",
       "\n",
       "    .dataframe tbody tr th {\n",
       "        vertical-align: top;\n",
       "    }\n",
       "\n",
       "    .dataframe thead th {\n",
       "        text-align: right;\n",
       "    }\n",
       "</style>\n",
       "<table border=\"1\" class=\"dataframe\">\n",
       "  <thead>\n",
       "    <tr style=\"text-align: right;\">\n",
       "      <th></th>\n",
       "      <th>LoanNr_ChkDgt</th>\n",
       "      <th>Name</th>\n",
       "      <th>City</th>\n",
       "      <th>State</th>\n",
       "      <th>Zip</th>\n",
       "      <th>Bank</th>\n",
       "      <th>BankState</th>\n",
       "      <th>NAICS</th>\n",
       "      <th>ApprovalDate</th>\n",
       "      <th>ApprovalFY</th>\n",
       "      <th>Term</th>\n",
       "      <th>NoEmp</th>\n",
       "      <th>NewExist</th>\n",
       "      <th>CreateJob</th>\n",
       "      <th>RetainedJob</th>\n",
       "      <th>FranchiseCode</th>\n",
       "      <th>UrbanRural</th>\n",
       "      <th>RevLineCr</th>\n",
       "      <th>LowDoc</th>\n",
       "      <th>ChgOffDate</th>\n",
       "      <th>DisbursementDate</th>\n",
       "      <th>DisbursementGross</th>\n",
       "      <th>BalanceGross</th>\n",
       "      <th>MIS_Status</th>\n",
       "      <th>ChgOffPrinGr</th>\n",
       "      <th>GrAppv</th>\n",
       "      <th>SBA_Appv</th>\n",
       "    </tr>\n",
       "  </thead>\n",
       "  <tbody>\n",
       "    <tr>\n",
       "      <th>0</th>\n",
       "      <td>1000014003</td>\n",
       "      <td>ABC HOBBYCRAFT</td>\n",
       "      <td>EVANSVILLE</td>\n",
       "      <td>IN</td>\n",
       "      <td>47711</td>\n",
       "      <td>FIFTH THIRD BANK</td>\n",
       "      <td>OH</td>\n",
       "      <td>451120</td>\n",
       "      <td>28-Feb-97</td>\n",
       "      <td>1997</td>\n",
       "      <td>84</td>\n",
       "      <td>4</td>\n",
       "      <td>2.0</td>\n",
       "      <td>0</td>\n",
       "      <td>0</td>\n",
       "      <td>1</td>\n",
       "      <td>0</td>\n",
       "      <td>N</td>\n",
       "      <td>Y</td>\n",
       "      <td>NaN</td>\n",
       "      <td>28-Feb-99</td>\n",
       "      <td>$60,000.00</td>\n",
       "      <td>$0.00</td>\n",
       "      <td>P I F</td>\n",
       "      <td>$0.00</td>\n",
       "      <td>$60,000.00</td>\n",
       "      <td>$48,000.00</td>\n",
       "    </tr>\n",
       "    <tr>\n",
       "      <th>1</th>\n",
       "      <td>1000024006</td>\n",
       "      <td>LANDMARK BAR &amp; GRILLE (THE)</td>\n",
       "      <td>NEW PARIS</td>\n",
       "      <td>IN</td>\n",
       "      <td>46526</td>\n",
       "      <td>1ST SOURCE BANK</td>\n",
       "      <td>IN</td>\n",
       "      <td>722410</td>\n",
       "      <td>28-Feb-97</td>\n",
       "      <td>1997</td>\n",
       "      <td>60</td>\n",
       "      <td>2</td>\n",
       "      <td>2.0</td>\n",
       "      <td>0</td>\n",
       "      <td>0</td>\n",
       "      <td>1</td>\n",
       "      <td>0</td>\n",
       "      <td>N</td>\n",
       "      <td>Y</td>\n",
       "      <td>NaN</td>\n",
       "      <td>31-May-97</td>\n",
       "      <td>$40,000.00</td>\n",
       "      <td>$0.00</td>\n",
       "      <td>P I F</td>\n",
       "      <td>$0.00</td>\n",
       "      <td>$40,000.00</td>\n",
       "      <td>$32,000.00</td>\n",
       "    </tr>\n",
       "    <tr>\n",
       "      <th>2</th>\n",
       "      <td>1000034009</td>\n",
       "      <td>WHITLOCK DDS, TODD M.</td>\n",
       "      <td>BLOOMINGTON</td>\n",
       "      <td>IN</td>\n",
       "      <td>47401</td>\n",
       "      <td>GRANT COUNTY STATE BANK</td>\n",
       "      <td>IN</td>\n",
       "      <td>621210</td>\n",
       "      <td>28-Feb-97</td>\n",
       "      <td>1997</td>\n",
       "      <td>180</td>\n",
       "      <td>7</td>\n",
       "      <td>1.0</td>\n",
       "      <td>0</td>\n",
       "      <td>0</td>\n",
       "      <td>1</td>\n",
       "      <td>0</td>\n",
       "      <td>N</td>\n",
       "      <td>N</td>\n",
       "      <td>NaN</td>\n",
       "      <td>31-Dec-97</td>\n",
       "      <td>$287,000.00</td>\n",
       "      <td>$0.00</td>\n",
       "      <td>P I F</td>\n",
       "      <td>$0.00</td>\n",
       "      <td>$287,000.00</td>\n",
       "      <td>$215,250.00</td>\n",
       "    </tr>\n",
       "    <tr>\n",
       "      <th>3</th>\n",
       "      <td>1000044001</td>\n",
       "      <td>BIG BUCKS PAWN &amp; JEWELRY, LLC</td>\n",
       "      <td>BROKEN ARROW</td>\n",
       "      <td>OK</td>\n",
       "      <td>74012</td>\n",
       "      <td>1ST NATL BK &amp; TR CO OF BROKEN</td>\n",
       "      <td>OK</td>\n",
       "      <td>0</td>\n",
       "      <td>28-Feb-97</td>\n",
       "      <td>1997</td>\n",
       "      <td>60</td>\n",
       "      <td>2</td>\n",
       "      <td>1.0</td>\n",
       "      <td>0</td>\n",
       "      <td>0</td>\n",
       "      <td>1</td>\n",
       "      <td>0</td>\n",
       "      <td>N</td>\n",
       "      <td>Y</td>\n",
       "      <td>NaN</td>\n",
       "      <td>30-Jun-97</td>\n",
       "      <td>$35,000.00</td>\n",
       "      <td>$0.00</td>\n",
       "      <td>P I F</td>\n",
       "      <td>$0.00</td>\n",
       "      <td>$35,000.00</td>\n",
       "      <td>$28,000.00</td>\n",
       "    </tr>\n",
       "    <tr>\n",
       "      <th>4</th>\n",
       "      <td>1000054004</td>\n",
       "      <td>ANASTASIA CONFECTIONS, INC.</td>\n",
       "      <td>ORLANDO</td>\n",
       "      <td>FL</td>\n",
       "      <td>32801</td>\n",
       "      <td>FLORIDA BUS. DEVEL CORP</td>\n",
       "      <td>FL</td>\n",
       "      <td>0</td>\n",
       "      <td>28-Feb-97</td>\n",
       "      <td>1997</td>\n",
       "      <td>240</td>\n",
       "      <td>14</td>\n",
       "      <td>1.0</td>\n",
       "      <td>7</td>\n",
       "      <td>7</td>\n",
       "      <td>1</td>\n",
       "      <td>0</td>\n",
       "      <td>N</td>\n",
       "      <td>N</td>\n",
       "      <td>NaN</td>\n",
       "      <td>14-May-97</td>\n",
       "      <td>$229,000.00</td>\n",
       "      <td>$0.00</td>\n",
       "      <td>P I F</td>\n",
       "      <td>$0.00</td>\n",
       "      <td>$229,000.00</td>\n",
       "      <td>$229,000.00</td>\n",
       "    </tr>\n",
       "  </tbody>\n",
       "</table>\n",
       "</div>"
      ],
      "text/plain": [
       "   LoanNr_ChkDgt                           Name          City State    Zip  \\\n",
       "0     1000014003                 ABC HOBBYCRAFT    EVANSVILLE    IN  47711   \n",
       "1     1000024006    LANDMARK BAR & GRILLE (THE)     NEW PARIS    IN  46526   \n",
       "2     1000034009          WHITLOCK DDS, TODD M.   BLOOMINGTON    IN  47401   \n",
       "3     1000044001  BIG BUCKS PAWN & JEWELRY, LLC  BROKEN ARROW    OK  74012   \n",
       "4     1000054004    ANASTASIA CONFECTIONS, INC.       ORLANDO    FL  32801   \n",
       "\n",
       "                            Bank BankState   NAICS ApprovalDate ApprovalFY  \\\n",
       "0               FIFTH THIRD BANK        OH  451120    28-Feb-97       1997   \n",
       "1                1ST SOURCE BANK        IN  722410    28-Feb-97       1997   \n",
       "2        GRANT COUNTY STATE BANK        IN  621210    28-Feb-97       1997   \n",
       "3  1ST NATL BK & TR CO OF BROKEN        OK       0    28-Feb-97       1997   \n",
       "4        FLORIDA BUS. DEVEL CORP        FL       0    28-Feb-97       1997   \n",
       "\n",
       "   Term  NoEmp  NewExist  CreateJob  RetainedJob  FranchiseCode  UrbanRural  \\\n",
       "0    84      4       2.0          0            0              1           0   \n",
       "1    60      2       2.0          0            0              1           0   \n",
       "2   180      7       1.0          0            0              1           0   \n",
       "3    60      2       1.0          0            0              1           0   \n",
       "4   240     14       1.0          7            7              1           0   \n",
       "\n",
       "  RevLineCr LowDoc ChgOffDate DisbursementDate DisbursementGross BalanceGross  \\\n",
       "0         N      Y        NaN        28-Feb-99       $60,000.00        $0.00    \n",
       "1         N      Y        NaN        31-May-97       $40,000.00        $0.00    \n",
       "2         N      N        NaN        31-Dec-97      $287,000.00        $0.00    \n",
       "3         N      Y        NaN        30-Jun-97       $35,000.00        $0.00    \n",
       "4         N      N        NaN        14-May-97      $229,000.00        $0.00    \n",
       "\n",
       "  MIS_Status ChgOffPrinGr        GrAppv      SBA_Appv  \n",
       "0      P I F       $0.00    $60,000.00    $48,000.00   \n",
       "1      P I F       $0.00    $40,000.00    $32,000.00   \n",
       "2      P I F       $0.00   $287,000.00   $215,250.00   \n",
       "3      P I F       $0.00    $35,000.00    $28,000.00   \n",
       "4      P I F       $0.00   $229,000.00   $229,000.00   "
      ]
     },
     "execution_count": 3,
     "metadata": {},
     "output_type": "execute_result"
    }
   ],
   "source": [
    "# Reading SBA Data\n",
    "df = pd.read_csv('SBAnational.csv',low_memory=False)\n",
    "df.head()"
   ]
  },
  {
   "cell_type": "code",
   "execution_count": 4,
   "metadata": {
    "scrolled": false
   },
   "outputs": [
    {
     "data": {
      "text/html": [
       "<div>\n",
       "<style scoped>\n",
       "    .dataframe tbody tr th:only-of-type {\n",
       "        vertical-align: middle;\n",
       "    }\n",
       "\n",
       "    .dataframe tbody tr th {\n",
       "        vertical-align: top;\n",
       "    }\n",
       "\n",
       "    .dataframe thead th {\n",
       "        text-align: right;\n",
       "    }\n",
       "</style>\n",
       "<table border=\"1\" class=\"dataframe\">\n",
       "  <thead>\n",
       "    <tr style=\"text-align: right;\">\n",
       "      <th></th>\n",
       "      <th>AsOfDate</th>\n",
       "      <th>Program</th>\n",
       "      <th>BorrName</th>\n",
       "      <th>BorrStreet</th>\n",
       "      <th>BorrCity</th>\n",
       "      <th>BorrState</th>\n",
       "      <th>BorrZip</th>\n",
       "      <th>BankName</th>\n",
       "      <th>BankFDICNumber</th>\n",
       "      <th>BankNCUANumber</th>\n",
       "      <th>BankStreet</th>\n",
       "      <th>BankCity</th>\n",
       "      <th>BankState</th>\n",
       "      <th>BankZip</th>\n",
       "      <th>GrossApproval</th>\n",
       "      <th>SBAGuaranteedApproval</th>\n",
       "      <th>ApprovalDate</th>\n",
       "      <th>ApprovalFiscalYear</th>\n",
       "      <th>FirstDisbursementDate</th>\n",
       "      <th>DeliveryMethod</th>\n",
       "      <th>subpgmdesc</th>\n",
       "      <th>InitialInterestRate</th>\n",
       "      <th>TermInMonths</th>\n",
       "      <th>NaicsCode</th>\n",
       "      <th>NaicsDescription</th>\n",
       "      <th>FranchiseCode</th>\n",
       "      <th>FranchiseName</th>\n",
       "      <th>ProjectCounty</th>\n",
       "      <th>ProjectState</th>\n",
       "      <th>SBADistrictOffice</th>\n",
       "      <th>CongressionalDistrict</th>\n",
       "      <th>BusinessType</th>\n",
       "      <th>BusinessAge</th>\n",
       "      <th>LoanStatus</th>\n",
       "      <th>PaidInFullDate</th>\n",
       "      <th>ChargeOffDate</th>\n",
       "      <th>GrossChargeOffAmount</th>\n",
       "      <th>RevolverStatus</th>\n",
       "      <th>JobsSupported</th>\n",
       "      <th>SOLDSECMRTIND</th>\n",
       "    </tr>\n",
       "  </thead>\n",
       "  <tbody>\n",
       "    <tr>\n",
       "      <th>0</th>\n",
       "      <td>20230331</td>\n",
       "      <td>7A</td>\n",
       "      <td>Allen Foot and Ankle Medicine</td>\n",
       "      <td>2919 S ELLSWORTH RD STE 124</td>\n",
       "      <td>MESA</td>\n",
       "      <td>AZ</td>\n",
       "      <td>85212</td>\n",
       "      <td>Western Alliance Bank</td>\n",
       "      <td>57512.0</td>\n",
       "      <td>NaN</td>\n",
       "      <td>1 E Washington St</td>\n",
       "      <td>PHOENIX</td>\n",
       "      <td>AZ</td>\n",
       "      <td>85004.0</td>\n",
       "      <td>350000.0</td>\n",
       "      <td>175000.0</td>\n",
       "      <td>10/01/2019</td>\n",
       "      <td>2020</td>\n",
       "      <td>10/31/2019</td>\n",
       "      <td>SBA EXPRES</td>\n",
       "      <td>FA$TRK (Small Loan Express)</td>\n",
       "      <td>5.5</td>\n",
       "      <td>63</td>\n",
       "      <td>621391.0</td>\n",
       "      <td>Offices of Podiatrists</td>\n",
       "      <td>NaN</td>\n",
       "      <td>NaN</td>\n",
       "      <td>MARICOPA</td>\n",
       "      <td>AZ</td>\n",
       "      <td>ARIZONA DISTRICT OFFICE</td>\n",
       "      <td>4.0</td>\n",
       "      <td>CORPORATION</td>\n",
       "      <td>Existing or more than 2 years old</td>\n",
       "      <td>PIF</td>\n",
       "      <td>12/31/2022</td>\n",
       "      <td>NaN</td>\n",
       "      <td>0</td>\n",
       "      <td>0</td>\n",
       "      <td>0</td>\n",
       "      <td>N</td>\n",
       "    </tr>\n",
       "    <tr>\n",
       "      <th>1</th>\n",
       "      <td>20230331</td>\n",
       "      <td>7A</td>\n",
       "      <td>Cojutepeque Restaurant</td>\n",
       "      <td>2610 W 3rd St</td>\n",
       "      <td>Los Angeles</td>\n",
       "      <td>CA</td>\n",
       "      <td>90057</td>\n",
       "      <td>Banner Bank</td>\n",
       "      <td>28489.0</td>\n",
       "      <td>NaN</td>\n",
       "      <td>10 S First Ave</td>\n",
       "      <td>WALLA WALLA</td>\n",
       "      <td>WA</td>\n",
       "      <td>99362.0</td>\n",
       "      <td>1040000.0</td>\n",
       "      <td>780000.0</td>\n",
       "      <td>10/01/2019</td>\n",
       "      <td>2020</td>\n",
       "      <td>10/31/2019</td>\n",
       "      <td>PLP</td>\n",
       "      <td>Guaranty</td>\n",
       "      <td>6.5</td>\n",
       "      <td>300</td>\n",
       "      <td>722511.0</td>\n",
       "      <td>Full-Service Restaurants</td>\n",
       "      <td>NaN</td>\n",
       "      <td>NaN</td>\n",
       "      <td>LOS ANGELES</td>\n",
       "      <td>CA</td>\n",
       "      <td>LOS ANGELES DISTRICT OFFICE</td>\n",
       "      <td>34.0</td>\n",
       "      <td>CORPORATION</td>\n",
       "      <td>Existing or more than 2 years old</td>\n",
       "      <td>EXEMPT</td>\n",
       "      <td>NaN</td>\n",
       "      <td>NaN</td>\n",
       "      <td>0</td>\n",
       "      <td>0</td>\n",
       "      <td>12</td>\n",
       "      <td>Y</td>\n",
       "    </tr>\n",
       "    <tr>\n",
       "      <th>2</th>\n",
       "      <td>20230331</td>\n",
       "      <td>7A</td>\n",
       "      <td>Adwa LLC</td>\n",
       "      <td>3105 ALDERWOOD MALL BLVD Suite</td>\n",
       "      <td>LYNNWOOD</td>\n",
       "      <td>WA</td>\n",
       "      <td>98036</td>\n",
       "      <td>Umpqua Bank</td>\n",
       "      <td>17266.0</td>\n",
       "      <td>NaN</td>\n",
       "      <td>445 SE Main St, First Fl</td>\n",
       "      <td>ROSEBURG</td>\n",
       "      <td>OR</td>\n",
       "      <td>97470.0</td>\n",
       "      <td>987500.0</td>\n",
       "      <td>740625.0</td>\n",
       "      <td>10/01/2019</td>\n",
       "      <td>2020</td>\n",
       "      <td>10/31/2019</td>\n",
       "      <td>PLP</td>\n",
       "      <td>Guaranty</td>\n",
       "      <td>7.0</td>\n",
       "      <td>120</td>\n",
       "      <td>451110.0</td>\n",
       "      <td>Sporting Goods Stores</td>\n",
       "      <td>NaN</td>\n",
       "      <td>NaN</td>\n",
       "      <td>SNOHOMISH</td>\n",
       "      <td>WA</td>\n",
       "      <td>SEATTLE DISTRICT OFFICE</td>\n",
       "      <td>1.0</td>\n",
       "      <td>CORPORATION</td>\n",
       "      <td>Change of Ownership</td>\n",
       "      <td>EXEMPT</td>\n",
       "      <td>NaN</td>\n",
       "      <td>NaN</td>\n",
       "      <td>0</td>\n",
       "      <td>0</td>\n",
       "      <td>14</td>\n",
       "      <td>Y</td>\n",
       "    </tr>\n",
       "    <tr>\n",
       "      <th>3</th>\n",
       "      <td>20230331</td>\n",
       "      <td>7A</td>\n",
       "      <td>Town Cleaners</td>\n",
       "      <td>2700 WASHINGTON BLVD #B</td>\n",
       "      <td>ARLINGTON</td>\n",
       "      <td>VA</td>\n",
       "      <td>22201</td>\n",
       "      <td>Hanmi Bank</td>\n",
       "      <td>24170.0</td>\n",
       "      <td>NaN</td>\n",
       "      <td>3660 Wilshire Blvd, PH-A</td>\n",
       "      <td>LOS ANGELES</td>\n",
       "      <td>CA</td>\n",
       "      <td>90010.0</td>\n",
       "      <td>22000.0</td>\n",
       "      <td>11000.0</td>\n",
       "      <td>10/01/2019</td>\n",
       "      <td>2020</td>\n",
       "      <td>10/31/2019</td>\n",
       "      <td>SBA EXPRES</td>\n",
       "      <td>FA$TRK (Small Loan Express)</td>\n",
       "      <td>9.0</td>\n",
       "      <td>51</td>\n",
       "      <td>812320.0</td>\n",
       "      <td>Drycleaning and Laundry Services (except Coin-...</td>\n",
       "      <td>NaN</td>\n",
       "      <td>NaN</td>\n",
       "      <td>ARLINGTON</td>\n",
       "      <td>VA</td>\n",
       "      <td>WASHINGTON DISTRICT OFFICE</td>\n",
       "      <td>8.0</td>\n",
       "      <td>INDIVIDUAL</td>\n",
       "      <td>Existing or more than 2 years old</td>\n",
       "      <td>CHGOFF</td>\n",
       "      <td>NaN</td>\n",
       "      <td>09/07/2022</td>\n",
       "      <td>15570</td>\n",
       "      <td>0</td>\n",
       "      <td>2</td>\n",
       "      <td>Y</td>\n",
       "    </tr>\n",
       "    <tr>\n",
       "      <th>4</th>\n",
       "      <td>20230331</td>\n",
       "      <td>7A</td>\n",
       "      <td>Moor Inc.</td>\n",
       "      <td>524 WOODSIDE RD</td>\n",
       "      <td>REDWOOD CITY</td>\n",
       "      <td>CA</td>\n",
       "      <td>94061</td>\n",
       "      <td>JPMorgan Chase Bank, National Association</td>\n",
       "      <td>628.0</td>\n",
       "      <td>NaN</td>\n",
       "      <td>1111 Polaris Pkwy</td>\n",
       "      <td>COLUMBUS</td>\n",
       "      <td>OH</td>\n",
       "      <td>43240.0</td>\n",
       "      <td>49000.0</td>\n",
       "      <td>24500.0</td>\n",
       "      <td>10/01/2019</td>\n",
       "      <td>2020</td>\n",
       "      <td>10/31/2019</td>\n",
       "      <td>SBA EXPRES</td>\n",
       "      <td>FA$TRK (Small Loan Express)</td>\n",
       "      <td>11.5</td>\n",
       "      <td>120</td>\n",
       "      <td>445110.0</td>\n",
       "      <td>Supermarkets and Other Grocery (except Conveni...</td>\n",
       "      <td>NaN</td>\n",
       "      <td>NaN</td>\n",
       "      <td>SAN MATEO</td>\n",
       "      <td>CA</td>\n",
       "      <td>SAN FRANCISCO DISTRICT OFFICE</td>\n",
       "      <td>14.0</td>\n",
       "      <td>CORPORATION</td>\n",
       "      <td>Existing or more than 2 years old</td>\n",
       "      <td>PIF</td>\n",
       "      <td>01/31/2023</td>\n",
       "      <td>NaN</td>\n",
       "      <td>0</td>\n",
       "      <td>1</td>\n",
       "      <td>0</td>\n",
       "      <td>N</td>\n",
       "    </tr>\n",
       "  </tbody>\n",
       "</table>\n",
       "</div>"
      ],
      "text/plain": [
       "   AsOfDate Program                       BorrName  \\\n",
       "0  20230331      7A  Allen Foot and Ankle Medicine   \n",
       "1  20230331      7A         Cojutepeque Restaurant   \n",
       "2  20230331      7A                       Adwa LLC   \n",
       "3  20230331      7A                  Town Cleaners   \n",
       "4  20230331      7A                      Moor Inc.   \n",
       "\n",
       "                       BorrStreet      BorrCity BorrState  BorrZip  \\\n",
       "0     2919 S ELLSWORTH RD STE 124          MESA        AZ    85212   \n",
       "1                   2610 W 3rd St   Los Angeles        CA    90057   \n",
       "2  3105 ALDERWOOD MALL BLVD Suite      LYNNWOOD        WA    98036   \n",
       "3         2700 WASHINGTON BLVD #B     ARLINGTON        VA    22201   \n",
       "4                 524 WOODSIDE RD  REDWOOD CITY        CA    94061   \n",
       "\n",
       "                                    BankName  BankFDICNumber  BankNCUANumber  \\\n",
       "0                      Western Alliance Bank         57512.0             NaN   \n",
       "1                                Banner Bank         28489.0             NaN   \n",
       "2                                Umpqua Bank         17266.0             NaN   \n",
       "3                                 Hanmi Bank         24170.0             NaN   \n",
       "4  JPMorgan Chase Bank, National Association           628.0             NaN   \n",
       "\n",
       "                 BankStreet     BankCity BankState  BankZip  GrossApproval  \\\n",
       "0         1 E Washington St      PHOENIX        AZ  85004.0       350000.0   \n",
       "1            10 S First Ave  WALLA WALLA        WA  99362.0      1040000.0   \n",
       "2  445 SE Main St, First Fl     ROSEBURG        OR  97470.0       987500.0   \n",
       "3  3660 Wilshire Blvd, PH-A  LOS ANGELES        CA  90010.0        22000.0   \n",
       "4         1111 Polaris Pkwy     COLUMBUS        OH  43240.0        49000.0   \n",
       "\n",
       "   SBAGuaranteedApproval ApprovalDate  ApprovalFiscalYear  \\\n",
       "0               175000.0   10/01/2019                2020   \n",
       "1               780000.0   10/01/2019                2020   \n",
       "2               740625.0   10/01/2019                2020   \n",
       "3                11000.0   10/01/2019                2020   \n",
       "4                24500.0   10/01/2019                2020   \n",
       "\n",
       "  FirstDisbursementDate DeliveryMethod                   subpgmdesc  \\\n",
       "0            10/31/2019     SBA EXPRES  FA$TRK (Small Loan Express)   \n",
       "1            10/31/2019            PLP                     Guaranty   \n",
       "2            10/31/2019            PLP                     Guaranty   \n",
       "3            10/31/2019     SBA EXPRES  FA$TRK (Small Loan Express)   \n",
       "4            10/31/2019     SBA EXPRES  FA$TRK (Small Loan Express)   \n",
       "\n",
       "   InitialInterestRate  TermInMonths  NaicsCode  \\\n",
       "0                  5.5            63   621391.0   \n",
       "1                  6.5           300   722511.0   \n",
       "2                  7.0           120   451110.0   \n",
       "3                  9.0            51   812320.0   \n",
       "4                 11.5           120   445110.0   \n",
       "\n",
       "                                    NaicsDescription FranchiseCode  \\\n",
       "0                             Offices of Podiatrists           NaN   \n",
       "1                           Full-Service Restaurants           NaN   \n",
       "2                              Sporting Goods Stores           NaN   \n",
       "3  Drycleaning and Laundry Services (except Coin-...           NaN   \n",
       "4  Supermarkets and Other Grocery (except Conveni...           NaN   \n",
       "\n",
       "  FranchiseName ProjectCounty ProjectState              SBADistrictOffice  \\\n",
       "0           NaN      MARICOPA           AZ        ARIZONA DISTRICT OFFICE   \n",
       "1           NaN   LOS ANGELES           CA    LOS ANGELES DISTRICT OFFICE   \n",
       "2           NaN     SNOHOMISH           WA        SEATTLE DISTRICT OFFICE   \n",
       "3           NaN     ARLINGTON           VA     WASHINGTON DISTRICT OFFICE   \n",
       "4           NaN     SAN MATEO           CA  SAN FRANCISCO DISTRICT OFFICE   \n",
       "\n",
       "   CongressionalDistrict BusinessType                        BusinessAge  \\\n",
       "0                    4.0  CORPORATION  Existing or more than 2 years old   \n",
       "1                   34.0  CORPORATION  Existing or more than 2 years old   \n",
       "2                    1.0  CORPORATION                Change of Ownership   \n",
       "3                    8.0   INDIVIDUAL  Existing or more than 2 years old   \n",
       "4                   14.0  CORPORATION  Existing or more than 2 years old   \n",
       "\n",
       "  LoanStatus PaidInFullDate ChargeOffDate  GrossChargeOffAmount  \\\n",
       "0        PIF     12/31/2022           NaN                     0   \n",
       "1     EXEMPT            NaN           NaN                     0   \n",
       "2     EXEMPT            NaN           NaN                     0   \n",
       "3     CHGOFF            NaN    09/07/2022                 15570   \n",
       "4        PIF     01/31/2023           NaN                     0   \n",
       "\n",
       "   RevolverStatus  JobsSupported SOLDSECMRTIND  \n",
       "0               0              0             N  \n",
       "1               0             12             Y  \n",
       "2               0             14             Y  \n",
       "3               0              2             Y  \n",
       "4               1              0             N  "
      ]
     },
     "execution_count": 4,
     "metadata": {},
     "output_type": "execute_result"
    }
   ],
   "source": [
    "# Reading Foia Data\n",
    "df2 = pd.read_csv(\"data/foia-7afy2020-present-asof-230331.csv\",encoding='latin-1', engine='python')\n",
    "df2.head()"
   ]
  },
  {
   "cell_type": "code",
   "execution_count": 5,
   "metadata": {},
   "outputs": [
    {
     "data": {
      "text/plain": [
       "LoanStatus\n",
       "EXEMPT    121746\n",
       "COMMIT     17858\n",
       "CANCLD     14980\n",
       "PIF        13147\n",
       "CHGOFF       480\n",
       "Name: count, dtype: int64"
      ]
     },
     "execution_count": 5,
     "metadata": {},
     "output_type": "execute_result"
    }
   ],
   "source": [
    "# Compatibility of dependent variable\n",
    "df2.LoanStatus.value_counts()"
   ]
  },
  {
   "cell_type": "code",
   "execution_count": 6,
   "metadata": {},
   "outputs": [
    {
     "data": {
      "text/plain": [
       "0.18707488289121896"
      ]
     },
     "execution_count": 6,
     "metadata": {},
     "output_type": "execute_result"
    }
   ],
   "source": [
    "# Foia Data as a percentage of SBA Data\n",
    "len(df2)/len(df)"
   ]
  },
  {
   "cell_type": "markdown",
   "metadata": {},
   "source": [
    "Since Foia data is incompatible and of negligible size, we proceeded with the SBA data only for our analysis"
   ]
  },
  {
   "cell_type": "code",
   "execution_count": 7,
   "metadata": {},
   "outputs": [],
   "source": [
    "class Describer:\n",
    "    \n",
    "    # initialize object\n",
    "    def __init__(self, df):\n",
    "        self.df = df\n",
    "        \n",
    "    # method to check shape of data\n",
    "    def shape(self):\n",
    "        shape_df = print(f\"The DataFrame has:\\n\\t* {self.df.shape[0]} rows\\n\\t* {self.df.shape[1]} columns\", '\\n')\n",
    "        return shape_df\n",
    "    \n",
    "    # method to check info on dataset\n",
    "    def data_info(self):\n",
    "        info_df = print(self.df.info(), '\\n')\n",
    "        return info_df\n",
    "    \n",
    "    # method to describe numerical columns\n",
    "    def data_describe(self):\n",
    "        num_col = self.df.describe()\n",
    "        return num_col"
   ]
  },
  {
   "cell_type": "code",
   "execution_count": 8,
   "metadata": {
    "scrolled": true
   },
   "outputs": [
    {
     "name": "stdout",
     "output_type": "stream",
     "text": [
      "The DataFrame has:\n",
      "\t* 899164 rows\n",
      "\t* 27 columns \n",
      "\n"
     ]
    }
   ],
   "source": [
    "# creating an instance of the class describer\n",
    "describe_df = Describer(df)\n",
    "\n",
    "# Viewing the shape of the data\n",
    "describe_df.shape()"
   ]
  },
  {
   "cell_type": "code",
   "execution_count": 9,
   "metadata": {
    "scrolled": true
   },
   "outputs": [
    {
     "name": "stdout",
     "output_type": "stream",
     "text": [
      "Summary infomation on dataset\n",
      "-----------------------------------------------\n",
      "<class 'pandas.core.frame.DataFrame'>\n",
      "RangeIndex: 899164 entries, 0 to 899163\n",
      "Data columns (total 27 columns):\n",
      " #   Column             Non-Null Count   Dtype  \n",
      "---  ------             --------------   -----  \n",
      " 0   LoanNr_ChkDgt      899164 non-null  int64  \n",
      " 1   Name               899150 non-null  object \n",
      " 2   City               899134 non-null  object \n",
      " 3   State              899150 non-null  object \n",
      " 4   Zip                899164 non-null  int64  \n",
      " 5   Bank               897605 non-null  object \n",
      " 6   BankState          897598 non-null  object \n",
      " 7   NAICS              899164 non-null  int64  \n",
      " 8   ApprovalDate       899164 non-null  object \n",
      " 9   ApprovalFY         899164 non-null  object \n",
      " 10  Term               899164 non-null  int64  \n",
      " 11  NoEmp              899164 non-null  int64  \n",
      " 12  NewExist           899028 non-null  float64\n",
      " 13  CreateJob          899164 non-null  int64  \n",
      " 14  RetainedJob        899164 non-null  int64  \n",
      " 15  FranchiseCode      899164 non-null  int64  \n",
      " 16  UrbanRural         899164 non-null  int64  \n",
      " 17  RevLineCr          894636 non-null  object \n",
      " 18  LowDoc             896582 non-null  object \n",
      " 19  ChgOffDate         162699 non-null  object \n",
      " 20  DisbursementDate   896796 non-null  object \n",
      " 21  DisbursementGross  899164 non-null  object \n",
      " 22  BalanceGross       899164 non-null  object \n",
      " 23  MIS_Status         897167 non-null  object \n",
      " 24  ChgOffPrinGr       899164 non-null  object \n",
      " 25  GrAppv             899164 non-null  object \n",
      " 26  SBA_Appv           899164 non-null  object \n",
      "dtypes: float64(1), int64(9), object(17)\n",
      "memory usage: 185.2+ MB\n",
      "None \n",
      "\n"
     ]
    }
   ],
   "source": [
    "# summary information\n",
    "print('Summary infomation on dataset')\n",
    "print('-----------------------------------------------')\n",
    "describe_df.data_info()"
   ]
  },
  {
   "cell_type": "code",
   "execution_count": 10,
   "metadata": {
    "scrolled": false
   },
   "outputs": [
    {
     "data": {
      "text/html": [
       "<div>\n",
       "<style scoped>\n",
       "    .dataframe tbody tr th:only-of-type {\n",
       "        vertical-align: middle;\n",
       "    }\n",
       "\n",
       "    .dataframe tbody tr th {\n",
       "        vertical-align: top;\n",
       "    }\n",
       "\n",
       "    .dataframe thead th {\n",
       "        text-align: right;\n",
       "    }\n",
       "</style>\n",
       "<table border=\"1\" class=\"dataframe\">\n",
       "  <thead>\n",
       "    <tr style=\"text-align: right;\">\n",
       "      <th></th>\n",
       "      <th>LoanNr_ChkDgt</th>\n",
       "      <th>Zip</th>\n",
       "      <th>NAICS</th>\n",
       "      <th>Term</th>\n",
       "      <th>NoEmp</th>\n",
       "      <th>NewExist</th>\n",
       "      <th>CreateJob</th>\n",
       "      <th>RetainedJob</th>\n",
       "      <th>FranchiseCode</th>\n",
       "      <th>UrbanRural</th>\n",
       "    </tr>\n",
       "  </thead>\n",
       "  <tbody>\n",
       "    <tr>\n",
       "      <th>count</th>\n",
       "      <td>8.991640e+05</td>\n",
       "      <td>899164.000000</td>\n",
       "      <td>899164.000000</td>\n",
       "      <td>899164.000000</td>\n",
       "      <td>899164.000000</td>\n",
       "      <td>899028.000000</td>\n",
       "      <td>899164.000000</td>\n",
       "      <td>899164.000000</td>\n",
       "      <td>899164.000000</td>\n",
       "      <td>899164.000000</td>\n",
       "    </tr>\n",
       "    <tr>\n",
       "      <th>mean</th>\n",
       "      <td>4.772612e+09</td>\n",
       "      <td>53804.391241</td>\n",
       "      <td>398660.950146</td>\n",
       "      <td>110.773078</td>\n",
       "      <td>11.411353</td>\n",
       "      <td>1.280404</td>\n",
       "      <td>8.430376</td>\n",
       "      <td>10.797257</td>\n",
       "      <td>2753.725933</td>\n",
       "      <td>0.757748</td>\n",
       "    </tr>\n",
       "    <tr>\n",
       "      <th>std</th>\n",
       "      <td>2.538175e+09</td>\n",
       "      <td>31184.159152</td>\n",
       "      <td>263318.312760</td>\n",
       "      <td>78.857305</td>\n",
       "      <td>74.108196</td>\n",
       "      <td>0.451750</td>\n",
       "      <td>236.688165</td>\n",
       "      <td>237.120600</td>\n",
       "      <td>12758.019136</td>\n",
       "      <td>0.646436</td>\n",
       "    </tr>\n",
       "    <tr>\n",
       "      <th>min</th>\n",
       "      <td>1.000014e+09</td>\n",
       "      <td>0.000000</td>\n",
       "      <td>0.000000</td>\n",
       "      <td>0.000000</td>\n",
       "      <td>0.000000</td>\n",
       "      <td>0.000000</td>\n",
       "      <td>0.000000</td>\n",
       "      <td>0.000000</td>\n",
       "      <td>0.000000</td>\n",
       "      <td>0.000000</td>\n",
       "    </tr>\n",
       "    <tr>\n",
       "      <th>25%</th>\n",
       "      <td>2.589758e+09</td>\n",
       "      <td>27587.000000</td>\n",
       "      <td>235210.000000</td>\n",
       "      <td>60.000000</td>\n",
       "      <td>2.000000</td>\n",
       "      <td>1.000000</td>\n",
       "      <td>0.000000</td>\n",
       "      <td>0.000000</td>\n",
       "      <td>1.000000</td>\n",
       "      <td>0.000000</td>\n",
       "    </tr>\n",
       "    <tr>\n",
       "      <th>50%</th>\n",
       "      <td>4.361439e+09</td>\n",
       "      <td>55410.000000</td>\n",
       "      <td>445310.000000</td>\n",
       "      <td>84.000000</td>\n",
       "      <td>4.000000</td>\n",
       "      <td>1.000000</td>\n",
       "      <td>0.000000</td>\n",
       "      <td>1.000000</td>\n",
       "      <td>1.000000</td>\n",
       "      <td>1.000000</td>\n",
       "    </tr>\n",
       "    <tr>\n",
       "      <th>75%</th>\n",
       "      <td>6.904627e+09</td>\n",
       "      <td>83704.000000</td>\n",
       "      <td>561730.000000</td>\n",
       "      <td>120.000000</td>\n",
       "      <td>10.000000</td>\n",
       "      <td>2.000000</td>\n",
       "      <td>1.000000</td>\n",
       "      <td>4.000000</td>\n",
       "      <td>1.000000</td>\n",
       "      <td>1.000000</td>\n",
       "    </tr>\n",
       "    <tr>\n",
       "      <th>max</th>\n",
       "      <td>9.996003e+09</td>\n",
       "      <td>99999.000000</td>\n",
       "      <td>928120.000000</td>\n",
       "      <td>569.000000</td>\n",
       "      <td>9999.000000</td>\n",
       "      <td>2.000000</td>\n",
       "      <td>8800.000000</td>\n",
       "      <td>9500.000000</td>\n",
       "      <td>99999.000000</td>\n",
       "      <td>2.000000</td>\n",
       "    </tr>\n",
       "  </tbody>\n",
       "</table>\n",
       "</div>"
      ],
      "text/plain": [
       "       LoanNr_ChkDgt            Zip          NAICS           Term  \\\n",
       "count   8.991640e+05  899164.000000  899164.000000  899164.000000   \n",
       "mean    4.772612e+09   53804.391241  398660.950146     110.773078   \n",
       "std     2.538175e+09   31184.159152  263318.312760      78.857305   \n",
       "min     1.000014e+09       0.000000       0.000000       0.000000   \n",
       "25%     2.589758e+09   27587.000000  235210.000000      60.000000   \n",
       "50%     4.361439e+09   55410.000000  445310.000000      84.000000   \n",
       "75%     6.904627e+09   83704.000000  561730.000000     120.000000   \n",
       "max     9.996003e+09   99999.000000  928120.000000     569.000000   \n",
       "\n",
       "               NoEmp       NewExist      CreateJob    RetainedJob  \\\n",
       "count  899164.000000  899028.000000  899164.000000  899164.000000   \n",
       "mean       11.411353       1.280404       8.430376      10.797257   \n",
       "std        74.108196       0.451750     236.688165     237.120600   \n",
       "min         0.000000       0.000000       0.000000       0.000000   \n",
       "25%         2.000000       1.000000       0.000000       0.000000   \n",
       "50%         4.000000       1.000000       0.000000       1.000000   \n",
       "75%        10.000000       2.000000       1.000000       4.000000   \n",
       "max      9999.000000       2.000000    8800.000000    9500.000000   \n",
       "\n",
       "       FranchiseCode     UrbanRural  \n",
       "count  899164.000000  899164.000000  \n",
       "mean     2753.725933       0.757748  \n",
       "std     12758.019136       0.646436  \n",
       "min         0.000000       0.000000  \n",
       "25%         1.000000       0.000000  \n",
       "50%         1.000000       1.000000  \n",
       "75%         1.000000       1.000000  \n",
       "max     99999.000000       2.000000  "
      ]
     },
     "execution_count": 10,
     "metadata": {},
     "output_type": "execute_result"
    }
   ],
   "source": [
    "# summary statistics\n",
    "describe_df.data_describe()"
   ]
  },
  {
   "cell_type": "code",
   "execution_count": 11,
   "metadata": {
    "scrolled": true
   },
   "outputs": [
    {
     "data": {
      "text/plain": [
       "False"
      ]
     },
     "execution_count": 11,
     "metadata": {},
     "output_type": "execute_result"
    }
   ],
   "source": [
    "# Duplicates\n",
    "df.duplicated().any()"
   ]
  },
  {
   "cell_type": "code",
   "execution_count": 12,
   "metadata": {
    "scrolled": true
   },
   "outputs": [
    {
     "name": "stdout",
     "output_type": "stream",
     "text": [
      "The Data has 751259 missing values in total.\n"
     ]
    },
    {
     "data": {
      "text/html": [
       "<div>\n",
       "<style scoped>\n",
       "    .dataframe tbody tr th:only-of-type {\n",
       "        vertical-align: middle;\n",
       "    }\n",
       "\n",
       "    .dataframe tbody tr th {\n",
       "        vertical-align: top;\n",
       "    }\n",
       "\n",
       "    .dataframe thead th {\n",
       "        text-align: right;\n",
       "    }\n",
       "</style>\n",
       "<table border=\"1\" class=\"dataframe\">\n",
       "  <thead>\n",
       "    <tr style=\"text-align: right;\">\n",
       "      <th></th>\n",
       "      <th>Missing Values</th>\n",
       "      <th>Percentage(%)</th>\n",
       "    </tr>\n",
       "  </thead>\n",
       "  <tbody>\n",
       "    <tr>\n",
       "      <th>ChgOffDate</th>\n",
       "      <td>736465</td>\n",
       "      <td>0.819055</td>\n",
       "    </tr>\n",
       "    <tr>\n",
       "      <th>RevLineCr</th>\n",
       "      <td>4528</td>\n",
       "      <td>0.005036</td>\n",
       "    </tr>\n",
       "    <tr>\n",
       "      <th>LowDoc</th>\n",
       "      <td>2582</td>\n",
       "      <td>0.002872</td>\n",
       "    </tr>\n",
       "    <tr>\n",
       "      <th>DisbursementDate</th>\n",
       "      <td>2368</td>\n",
       "      <td>0.002634</td>\n",
       "    </tr>\n",
       "    <tr>\n",
       "      <th>MIS_Status</th>\n",
       "      <td>1997</td>\n",
       "      <td>0.002221</td>\n",
       "    </tr>\n",
       "    <tr>\n",
       "      <th>BankState</th>\n",
       "      <td>1566</td>\n",
       "      <td>0.001742</td>\n",
       "    </tr>\n",
       "    <tr>\n",
       "      <th>Bank</th>\n",
       "      <td>1559</td>\n",
       "      <td>0.001734</td>\n",
       "    </tr>\n",
       "    <tr>\n",
       "      <th>NewExist</th>\n",
       "      <td>136</td>\n",
       "      <td>0.000151</td>\n",
       "    </tr>\n",
       "    <tr>\n",
       "      <th>City</th>\n",
       "      <td>30</td>\n",
       "      <td>0.000033</td>\n",
       "    </tr>\n",
       "    <tr>\n",
       "      <th>State</th>\n",
       "      <td>14</td>\n",
       "      <td>0.000016</td>\n",
       "    </tr>\n",
       "    <tr>\n",
       "      <th>Name</th>\n",
       "      <td>14</td>\n",
       "      <td>0.000016</td>\n",
       "    </tr>\n",
       "    <tr>\n",
       "      <th>LoanNr_ChkDgt</th>\n",
       "      <td>0</td>\n",
       "      <td>0.000000</td>\n",
       "    </tr>\n",
       "    <tr>\n",
       "      <th>GrAppv</th>\n",
       "      <td>0</td>\n",
       "      <td>0.000000</td>\n",
       "    </tr>\n",
       "    <tr>\n",
       "      <th>ChgOffPrinGr</th>\n",
       "      <td>0</td>\n",
       "      <td>0.000000</td>\n",
       "    </tr>\n",
       "    <tr>\n",
       "      <th>BalanceGross</th>\n",
       "      <td>0</td>\n",
       "      <td>0.000000</td>\n",
       "    </tr>\n",
       "    <tr>\n",
       "      <th>DisbursementGross</th>\n",
       "      <td>0</td>\n",
       "      <td>0.000000</td>\n",
       "    </tr>\n",
       "    <tr>\n",
       "      <th>CreateJob</th>\n",
       "      <td>0</td>\n",
       "      <td>0.000000</td>\n",
       "    </tr>\n",
       "    <tr>\n",
       "      <th>UrbanRural</th>\n",
       "      <td>0</td>\n",
       "      <td>0.000000</td>\n",
       "    </tr>\n",
       "    <tr>\n",
       "      <th>FranchiseCode</th>\n",
       "      <td>0</td>\n",
       "      <td>0.000000</td>\n",
       "    </tr>\n",
       "    <tr>\n",
       "      <th>RetainedJob</th>\n",
       "      <td>0</td>\n",
       "      <td>0.000000</td>\n",
       "    </tr>\n",
       "    <tr>\n",
       "      <th>NoEmp</th>\n",
       "      <td>0</td>\n",
       "      <td>0.000000</td>\n",
       "    </tr>\n",
       "    <tr>\n",
       "      <th>Term</th>\n",
       "      <td>0</td>\n",
       "      <td>0.000000</td>\n",
       "    </tr>\n",
       "    <tr>\n",
       "      <th>ApprovalFY</th>\n",
       "      <td>0</td>\n",
       "      <td>0.000000</td>\n",
       "    </tr>\n",
       "    <tr>\n",
       "      <th>ApprovalDate</th>\n",
       "      <td>0</td>\n",
       "      <td>0.000000</td>\n",
       "    </tr>\n",
       "    <tr>\n",
       "      <th>NAICS</th>\n",
       "      <td>0</td>\n",
       "      <td>0.000000</td>\n",
       "    </tr>\n",
       "    <tr>\n",
       "      <th>Zip</th>\n",
       "      <td>0</td>\n",
       "      <td>0.000000</td>\n",
       "    </tr>\n",
       "    <tr>\n",
       "      <th>SBA_Appv</th>\n",
       "      <td>0</td>\n",
       "      <td>0.000000</td>\n",
       "    </tr>\n",
       "  </tbody>\n",
       "</table>\n",
       "</div>"
      ],
      "text/plain": [
       "                   Missing Values  Percentage(%)\n",
       "ChgOffDate                 736465       0.819055\n",
       "RevLineCr                    4528       0.005036\n",
       "LowDoc                       2582       0.002872\n",
       "DisbursementDate             2368       0.002634\n",
       "MIS_Status                   1997       0.002221\n",
       "BankState                    1566       0.001742\n",
       "Bank                         1559       0.001734\n",
       "NewExist                      136       0.000151\n",
       "City                           30       0.000033\n",
       "State                          14       0.000016\n",
       "Name                           14       0.000016\n",
       "LoanNr_ChkDgt                   0       0.000000\n",
       "GrAppv                          0       0.000000\n",
       "ChgOffPrinGr                    0       0.000000\n",
       "BalanceGross                    0       0.000000\n",
       "DisbursementGross               0       0.000000\n",
       "CreateJob                       0       0.000000\n",
       "UrbanRural                      0       0.000000\n",
       "FranchiseCode                   0       0.000000\n",
       "RetainedJob                     0       0.000000\n",
       "NoEmp                           0       0.000000\n",
       "Term                            0       0.000000\n",
       "ApprovalFY                      0       0.000000\n",
       "ApprovalDate                    0       0.000000\n",
       "NAICS                           0       0.000000\n",
       "Zip                             0       0.000000\n",
       "SBA_Appv                        0       0.000000"
      ]
     },
     "execution_count": 12,
     "metadata": {},
     "output_type": "execute_result"
    }
   ],
   "source": [
    "# Function to display missing values\n",
    "\n",
    "def missing_values(data):\n",
    "    # identify the total missing values per column\n",
    "    # sort in order \n",
    "    if df.isnull().sum().any():\n",
    "        print(f\"The Data has {df.isnull().sum().sum()} missing values in total.\")\n",
    "        miss = data.isnull().sum().sort_values(ascending = False)\n",
    "\n",
    "        # percentage of missing values\n",
    "        percentage_miss = (data.isnull().sum() / len(data)).sort_values(ascending = False)\n",
    "\n",
    "        # store in a dataframe \n",
    "        missing = pd.DataFrame({\"Missing Values\": miss, \"Percentage(%)\": percentage_miss})\n",
    "\n",
    "        return missing\n",
    "    else:\n",
    "        print(\"The Data has no missing values\")\n",
    "\n",
    "\n",
    "missing_values(df)\n"
   ]
  },
  {
   "cell_type": "markdown",
   "metadata": {},
   "source": [
    "## <b> Data Cleaning </b>\n",
    "\n",
    "At this stage of our analysis after checking the quality of the data, we proceeded to utilise different data cleaning techniques as we saw necessary, such as:\n",
    "- Dealing with the missing values \n",
    "- Changing data types to the appropriate formats; among others. "
   ]
  },
  {
   "cell_type": "markdown",
   "metadata": {},
   "source": [
    "We decided to drop the column ```ChgOffDate```, representing the **date when a loan is declared to be in default**, due to the high percentage of missing values."
   ]
  },
  {
   "cell_type": "code",
   "execution_count": 13,
   "metadata": {},
   "outputs": [],
   "source": [
    "# Dropping the ChgOffDate column\n",
    "df.drop('ChgOffDate', axis = 1, inplace=True)"
   ]
  },
  {
   "cell_type": "code",
   "execution_count": 14,
   "metadata": {},
   "outputs": [
    {
     "data": {
      "text/plain": [
       "array(['P I F', 'CHGOFF', nan], dtype=object)"
      ]
     },
     "execution_count": 14,
     "metadata": {},
     "output_type": "execute_result"
    }
   ],
   "source": [
    "# Checking the unique values in the target variable\n",
    "df['MIS_Status'].unique()"
   ]
  },
  {
   "cell_type": "code",
   "execution_count": 15,
   "metadata": {},
   "outputs": [
    {
     "data": {
      "text/plain": [
       "0.9856266487537313"
      ]
     },
     "execution_count": 15,
     "metadata": {},
     "output_type": "execute_result"
    }
   ],
   "source": [
    "# Checking the percentage of data retained if we choose to drop all rows with missing values \n",
    "len(df.dropna())/len(df)"
   ]
  },
  {
   "cell_type": "markdown",
   "metadata": {},
   "source": [
    "Since we still have a very significant amount of data(```98.5%```) retained after dropping the missing values, we proceed and drop them."
   ]
  },
  {
   "cell_type": "code",
   "execution_count": 16,
   "metadata": {},
   "outputs": [],
   "source": [
    "# Dropping all rows with missing values\n",
    "df.dropna(inplace=True)"
   ]
  },
  {
   "cell_type": "code",
   "execution_count": 17,
   "metadata": {
    "scrolled": true
   },
   "outputs": [
    {
     "data": {
      "text/plain": [
       "False"
      ]
     },
     "execution_count": 17,
     "metadata": {},
     "output_type": "execute_result"
    }
   ],
   "source": [
    "# Confirming that we have dropped all rows with missing values\n",
    "df.isnull().sum().any()"
   ]
  },
  {
   "cell_type": "markdown",
   "metadata": {},
   "source": [
    "Next, we removed the dollar signs to facilitate data manipulation and for consistency."
   ]
  },
  {
   "cell_type": "code",
   "execution_count": 18,
   "metadata": {},
   "outputs": [],
   "source": [
    "# Removing the dollar signs in the currency columns\n",
    "dollar_columns = ['DisbursementGross', 'BalanceGross', 'ChgOffPrinGr', 'GrAppv', 'SBA_Appv']\n",
    "df[dollar_columns] = df[dollar_columns].replace('[\\$,]', '', regex=True).astype(float)"
   ]
  },
  {
   "cell_type": "code",
   "execution_count": 19,
   "metadata": {},
   "outputs": [
    {
     "name": "stderr",
     "output_type": "stream",
     "text": [
      "<ipython-input-19-744c9bf46828>:3: UserWarning: Could not infer format, so each element will be parsed individually, falling back to `dateutil`. To ensure parsing is consistent and as-expected, please specify a format.\n",
      "  df[column]=pd.to_datetime(df[column])\n",
      "<ipython-input-19-744c9bf46828>:3: UserWarning: Could not infer format, so each element will be parsed individually, falling back to `dateutil`. To ensure parsing is consistent and as-expected, please specify a format.\n",
      "  df[column]=pd.to_datetime(df[column])\n"
     ]
    }
   ],
   "source": [
    "date_columns=['ApprovalDate','DisbursementDate']\n",
    "for column in date_columns:\n",
    "    df[column]=pd.to_datetime(df[column])"
   ]
  },
  {
   "cell_type": "markdown",
   "metadata": {},
   "source": [
    "Checking for inconsistencies / invalid data"
   ]
  },
  {
   "cell_type": "code",
   "execution_count": 20,
   "metadata": {
    "scrolled": true
   },
   "outputs": [
    {
     "data": {
      "text/html": [
       "<div>\n",
       "<style scoped>\n",
       "    .dataframe tbody tr th:only-of-type {\n",
       "        vertical-align: middle;\n",
       "    }\n",
       "\n",
       "    .dataframe tbody tr th {\n",
       "        vertical-align: top;\n",
       "    }\n",
       "\n",
       "    .dataframe thead th {\n",
       "        text-align: right;\n",
       "    }\n",
       "</style>\n",
       "<table border=\"1\" class=\"dataframe\">\n",
       "  <thead>\n",
       "    <tr style=\"text-align: right;\">\n",
       "      <th></th>\n",
       "      <th>LoanNr_ChkDgt</th>\n",
       "      <th>Name</th>\n",
       "      <th>City</th>\n",
       "      <th>State</th>\n",
       "      <th>Zip</th>\n",
       "      <th>Bank</th>\n",
       "      <th>BankState</th>\n",
       "      <th>NAICS</th>\n",
       "      <th>ApprovalDate</th>\n",
       "      <th>ApprovalFY</th>\n",
       "      <th>Term</th>\n",
       "      <th>NoEmp</th>\n",
       "      <th>NewExist</th>\n",
       "      <th>CreateJob</th>\n",
       "      <th>RetainedJob</th>\n",
       "      <th>FranchiseCode</th>\n",
       "      <th>UrbanRural</th>\n",
       "      <th>RevLineCr</th>\n",
       "      <th>LowDoc</th>\n",
       "      <th>DisbursementDate</th>\n",
       "      <th>DisbursementGross</th>\n",
       "      <th>BalanceGross</th>\n",
       "      <th>MIS_Status</th>\n",
       "      <th>ChgOffPrinGr</th>\n",
       "      <th>GrAppv</th>\n",
       "      <th>SBA_Appv</th>\n",
       "    </tr>\n",
       "  </thead>\n",
       "  <tbody>\n",
       "    <tr>\n",
       "      <th>481</th>\n",
       "      <td>1003703008</td>\n",
       "      <td>AQUA BELLA ENTERPRISES, INC.</td>\n",
       "      <td>CHICAGO</td>\n",
       "      <td>IL</td>\n",
       "      <td>60634</td>\n",
       "      <td>NORTH COMMUNITY BANK</td>\n",
       "      <td>IL</td>\n",
       "      <td>0</td>\n",
       "      <td>1980-06-25</td>\n",
       "      <td>1980</td>\n",
       "      <td>87</td>\n",
       "      <td>20</td>\n",
       "      <td>1.0</td>\n",
       "      <td>0</td>\n",
       "      <td>0</td>\n",
       "      <td>0</td>\n",
       "      <td>0</td>\n",
       "      <td>N</td>\n",
       "      <td>N</td>\n",
       "      <td>1980-05-12</td>\n",
       "      <td>350000.0</td>\n",
       "      <td>0.0</td>\n",
       "      <td>CHGOFF</td>\n",
       "      <td>311636.0</td>\n",
       "      <td>350000.0</td>\n",
       "      <td>315000.0</td>\n",
       "    </tr>\n",
       "    <tr>\n",
       "      <th>1548</th>\n",
       "      <td>1010634005</td>\n",
       "      <td>EARL'S MACHINE SHOP</td>\n",
       "      <td>ROGERS</td>\n",
       "      <td>AR</td>\n",
       "      <td>72756</td>\n",
       "      <td>IBERIABANK</td>\n",
       "      <td>AR</td>\n",
       "      <td>332312</td>\n",
       "      <td>1997-03-05</td>\n",
       "      <td>1997</td>\n",
       "      <td>96</td>\n",
       "      <td>1</td>\n",
       "      <td>2.0</td>\n",
       "      <td>0</td>\n",
       "      <td>0</td>\n",
       "      <td>1</td>\n",
       "      <td>0</td>\n",
       "      <td>N</td>\n",
       "      <td>Y</td>\n",
       "      <td>1997-02-28</td>\n",
       "      <td>56400.0</td>\n",
       "      <td>0.0</td>\n",
       "      <td>P I F</td>\n",
       "      <td>0.0</td>\n",
       "      <td>56400.0</td>\n",
       "      <td>45120.0</td>\n",
       "    </tr>\n",
       "    <tr>\n",
       "      <th>1655</th>\n",
       "      <td>1011204007</td>\n",
       "      <td>MACHINE SHOP SERVICES INC</td>\n",
       "      <td>NEENAH</td>\n",
       "      <td>WI</td>\n",
       "      <td>54956</td>\n",
       "      <td>AMER NATL BANK-FOX CITIES</td>\n",
       "      <td>WI</td>\n",
       "      <td>333512</td>\n",
       "      <td>1997-03-05</td>\n",
       "      <td>1997</td>\n",
       "      <td>72</td>\n",
       "      <td>4</td>\n",
       "      <td>1.0</td>\n",
       "      <td>0</td>\n",
       "      <td>0</td>\n",
       "      <td>1</td>\n",
       "      <td>0</td>\n",
       "      <td>N</td>\n",
       "      <td>Y</td>\n",
       "      <td>1997-02-28</td>\n",
       "      <td>27000.0</td>\n",
       "      <td>0.0</td>\n",
       "      <td>P I F</td>\n",
       "      <td>0.0</td>\n",
       "      <td>27000.0</td>\n",
       "      <td>21600.0</td>\n",
       "    </tr>\n",
       "    <tr>\n",
       "      <th>6907</th>\n",
       "      <td>1047134001</td>\n",
       "      <td>ADVANTAGE ASIA</td>\n",
       "      <td>NEW YORK</td>\n",
       "      <td>NY</td>\n",
       "      <td>10028</td>\n",
       "      <td>JPMORGAN CHASE BANK NATL ASSOC</td>\n",
       "      <td>IL</td>\n",
       "      <td>0</td>\n",
       "      <td>1997-03-19</td>\n",
       "      <td>1997</td>\n",
       "      <td>181</td>\n",
       "      <td>1</td>\n",
       "      <td>1.0</td>\n",
       "      <td>0</td>\n",
       "      <td>0</td>\n",
       "      <td>1</td>\n",
       "      <td>0</td>\n",
       "      <td>N</td>\n",
       "      <td>N</td>\n",
       "      <td>1997-02-14</td>\n",
       "      <td>75000.0</td>\n",
       "      <td>0.0</td>\n",
       "      <td>P I F</td>\n",
       "      <td>0.0</td>\n",
       "      <td>75000.0</td>\n",
       "      <td>60000.0</td>\n",
       "    </tr>\n",
       "    <tr>\n",
       "      <th>13804</th>\n",
       "      <td>1098814004</td>\n",
       "      <td>LANSING CONSTRUCTION</td>\n",
       "      <td>MONTEZUMZ CREEK</td>\n",
       "      <td>UT</td>\n",
       "      <td>84510</td>\n",
       "      <td>VECTRA BK COLORADO NATL ASSOC</td>\n",
       "      <td>NM</td>\n",
       "      <td>235930</td>\n",
       "      <td>1997-04-04</td>\n",
       "      <td>1997</td>\n",
       "      <td>46</td>\n",
       "      <td>16</td>\n",
       "      <td>1.0</td>\n",
       "      <td>0</td>\n",
       "      <td>0</td>\n",
       "      <td>1</td>\n",
       "      <td>0</td>\n",
       "      <td>N</td>\n",
       "      <td>Y</td>\n",
       "      <td>1996-07-04</td>\n",
       "      <td>40600.0</td>\n",
       "      <td>0.0</td>\n",
       "      <td>P I F</td>\n",
       "      <td>0.0</td>\n",
       "      <td>40600.0</td>\n",
       "      <td>32480.0</td>\n",
       "    </tr>\n",
       "    <tr>\n",
       "      <th>...</th>\n",
       "      <td>...</td>\n",
       "      <td>...</td>\n",
       "      <td>...</td>\n",
       "      <td>...</td>\n",
       "      <td>...</td>\n",
       "      <td>...</td>\n",
       "      <td>...</td>\n",
       "      <td>...</td>\n",
       "      <td>...</td>\n",
       "      <td>...</td>\n",
       "      <td>...</td>\n",
       "      <td>...</td>\n",
       "      <td>...</td>\n",
       "      <td>...</td>\n",
       "      <td>...</td>\n",
       "      <td>...</td>\n",
       "      <td>...</td>\n",
       "      <td>...</td>\n",
       "      <td>...</td>\n",
       "      <td>...</td>\n",
       "      <td>...</td>\n",
       "      <td>...</td>\n",
       "      <td>...</td>\n",
       "      <td>...</td>\n",
       "      <td>...</td>\n",
       "      <td>...</td>\n",
       "    </tr>\n",
       "    <tr>\n",
       "      <th>896648</th>\n",
       "      <td>9939483007</td>\n",
       "      <td>AUTO AUCTION DIRECT</td>\n",
       "      <td>AMERICAN FORK</td>\n",
       "      <td>UT</td>\n",
       "      <td>84003</td>\n",
       "      <td>1ST NATL BK OF LAYTON</td>\n",
       "      <td>UT</td>\n",
       "      <td>441120</td>\n",
       "      <td>1997-02-03</td>\n",
       "      <td>1997</td>\n",
       "      <td>35</td>\n",
       "      <td>1</td>\n",
       "      <td>2.0</td>\n",
       "      <td>0</td>\n",
       "      <td>0</td>\n",
       "      <td>1</td>\n",
       "      <td>0</td>\n",
       "      <td>N</td>\n",
       "      <td>N</td>\n",
       "      <td>1996-04-07</td>\n",
       "      <td>125000.0</td>\n",
       "      <td>0.0</td>\n",
       "      <td>CHGOFF</td>\n",
       "      <td>118002.0</td>\n",
       "      <td>125000.0</td>\n",
       "      <td>93750.0</td>\n",
       "    </tr>\n",
       "    <tr>\n",
       "      <th>896854</th>\n",
       "      <td>9944333002</td>\n",
       "      <td>MADDEN PRINTING/MINUTEMAN PRES</td>\n",
       "      <td>FISHKILL</td>\n",
       "      <td>NY</td>\n",
       "      <td>12524</td>\n",
       "      <td>PNC BANK, NATIONAL ASSOCIATION</td>\n",
       "      <td>NJ</td>\n",
       "      <td>0</td>\n",
       "      <td>1997-02-05</td>\n",
       "      <td>1997</td>\n",
       "      <td>121</td>\n",
       "      <td>3</td>\n",
       "      <td>2.0</td>\n",
       "      <td>0</td>\n",
       "      <td>0</td>\n",
       "      <td>1</td>\n",
       "      <td>0</td>\n",
       "      <td>N</td>\n",
       "      <td>N</td>\n",
       "      <td>1996-10-29</td>\n",
       "      <td>90000.0</td>\n",
       "      <td>0.0</td>\n",
       "      <td>P I F</td>\n",
       "      <td>0.0</td>\n",
       "      <td>90000.0</td>\n",
       "      <td>72000.0</td>\n",
       "    </tr>\n",
       "    <tr>\n",
       "      <th>897223</th>\n",
       "      <td>9952913010</td>\n",
       "      <td>RODCO, INC</td>\n",
       "      <td>CENTERVILLE</td>\n",
       "      <td>UT</td>\n",
       "      <td>84014</td>\n",
       "      <td>1ST NATL BK OF LAYTON</td>\n",
       "      <td>UT</td>\n",
       "      <td>233210</td>\n",
       "      <td>1997-02-10</td>\n",
       "      <td>1997</td>\n",
       "      <td>190</td>\n",
       "      <td>4</td>\n",
       "      <td>2.0</td>\n",
       "      <td>0</td>\n",
       "      <td>0</td>\n",
       "      <td>1</td>\n",
       "      <td>0</td>\n",
       "      <td>N</td>\n",
       "      <td>N</td>\n",
       "      <td>1996-04-13</td>\n",
       "      <td>180000.0</td>\n",
       "      <td>0.0</td>\n",
       "      <td>P I F</td>\n",
       "      <td>0.0</td>\n",
       "      <td>180000.0</td>\n",
       "      <td>135000.0</td>\n",
       "    </tr>\n",
       "    <tr>\n",
       "      <th>898373</th>\n",
       "      <td>9978813002</td>\n",
       "      <td>CROWN JEWELERS, LTD.</td>\n",
       "      <td>STAUNTON</td>\n",
       "      <td>VA</td>\n",
       "      <td>24401</td>\n",
       "      <td>UNION FIRST MARKET BANK</td>\n",
       "      <td>VA</td>\n",
       "      <td>448310</td>\n",
       "      <td>1997-02-21</td>\n",
       "      <td>1997</td>\n",
       "      <td>299</td>\n",
       "      <td>1</td>\n",
       "      <td>1.0</td>\n",
       "      <td>0</td>\n",
       "      <td>0</td>\n",
       "      <td>1</td>\n",
       "      <td>0</td>\n",
       "      <td>N</td>\n",
       "      <td>N</td>\n",
       "      <td>1987-04-01</td>\n",
       "      <td>50000.0</td>\n",
       "      <td>0.0</td>\n",
       "      <td>P I F</td>\n",
       "      <td>0.0</td>\n",
       "      <td>50000.0</td>\n",
       "      <td>37500.0</td>\n",
       "    </tr>\n",
       "    <tr>\n",
       "      <th>899107</th>\n",
       "      <td>9994623004</td>\n",
       "      <td>MAILFAST, INC.</td>\n",
       "      <td>BIRMINGHAM</td>\n",
       "      <td>AL</td>\n",
       "      <td>35222</td>\n",
       "      <td>COMPASS BANK</td>\n",
       "      <td>AL</td>\n",
       "      <td>0</td>\n",
       "      <td>2001-03-26</td>\n",
       "      <td>2001</td>\n",
       "      <td>84</td>\n",
       "      <td>21</td>\n",
       "      <td>1.0</td>\n",
       "      <td>0</td>\n",
       "      <td>0</td>\n",
       "      <td>1</td>\n",
       "      <td>0</td>\n",
       "      <td>N</td>\n",
       "      <td>N</td>\n",
       "      <td>1998-01-31</td>\n",
       "      <td>100000.0</td>\n",
       "      <td>0.0</td>\n",
       "      <td>P I F</td>\n",
       "      <td>0.0</td>\n",
       "      <td>100000.0</td>\n",
       "      <td>75000.0</td>\n",
       "    </tr>\n",
       "  </tbody>\n",
       "</table>\n",
       "<p>784 rows × 26 columns</p>\n",
       "</div>"
      ],
      "text/plain": [
       "        LoanNr_ChkDgt                            Name             City State  \\\n",
       "481        1003703008    AQUA BELLA ENTERPRISES, INC.          CHICAGO    IL   \n",
       "1548       1010634005             EARL'S MACHINE SHOP           ROGERS    AR   \n",
       "1655       1011204007       MACHINE SHOP SERVICES INC           NEENAH    WI   \n",
       "6907       1047134001                  ADVANTAGE ASIA         NEW YORK    NY   \n",
       "13804      1098814004            LANSING CONSTRUCTION  MONTEZUMZ CREEK    UT   \n",
       "...               ...                             ...              ...   ...   \n",
       "896648     9939483007             AUTO AUCTION DIRECT    AMERICAN FORK    UT   \n",
       "896854     9944333002  MADDEN PRINTING/MINUTEMAN PRES         FISHKILL    NY   \n",
       "897223     9952913010                      RODCO, INC      CENTERVILLE    UT   \n",
       "898373     9978813002            CROWN JEWELERS, LTD.         STAUNTON    VA   \n",
       "899107     9994623004                  MAILFAST, INC.       BIRMINGHAM    AL   \n",
       "\n",
       "          Zip                            Bank BankState   NAICS ApprovalDate  \\\n",
       "481     60634            NORTH COMMUNITY BANK        IL       0   1980-06-25   \n",
       "1548    72756                      IBERIABANK        AR  332312   1997-03-05   \n",
       "1655    54956       AMER NATL BANK-FOX CITIES        WI  333512   1997-03-05   \n",
       "6907    10028  JPMORGAN CHASE BANK NATL ASSOC        IL       0   1997-03-19   \n",
       "13804   84510   VECTRA BK COLORADO NATL ASSOC        NM  235930   1997-04-04   \n",
       "...       ...                             ...       ...     ...          ...   \n",
       "896648  84003           1ST NATL BK OF LAYTON        UT  441120   1997-02-03   \n",
       "896854  12524  PNC BANK, NATIONAL ASSOCIATION        NJ       0   1997-02-05   \n",
       "897223  84014           1ST NATL BK OF LAYTON        UT  233210   1997-02-10   \n",
       "898373  24401         UNION FIRST MARKET BANK        VA  448310   1997-02-21   \n",
       "899107  35222                    COMPASS BANK        AL       0   2001-03-26   \n",
       "\n",
       "       ApprovalFY  Term  NoEmp  NewExist  CreateJob  RetainedJob  \\\n",
       "481          1980    87     20       1.0          0            0   \n",
       "1548         1997    96      1       2.0          0            0   \n",
       "1655         1997    72      4       1.0          0            0   \n",
       "6907         1997   181      1       1.0          0            0   \n",
       "13804        1997    46     16       1.0          0            0   \n",
       "...           ...   ...    ...       ...        ...          ...   \n",
       "896648       1997    35      1       2.0          0            0   \n",
       "896854       1997   121      3       2.0          0            0   \n",
       "897223       1997   190      4       2.0          0            0   \n",
       "898373       1997   299      1       1.0          0            0   \n",
       "899107       2001    84     21       1.0          0            0   \n",
       "\n",
       "        FranchiseCode  UrbanRural RevLineCr LowDoc DisbursementDate  \\\n",
       "481                 0           0         N      N       1980-05-12   \n",
       "1548                1           0         N      Y       1997-02-28   \n",
       "1655                1           0         N      Y       1997-02-28   \n",
       "6907                1           0         N      N       1997-02-14   \n",
       "13804               1           0         N      Y       1996-07-04   \n",
       "...               ...         ...       ...    ...              ...   \n",
       "896648              1           0         N      N       1996-04-07   \n",
       "896854              1           0         N      N       1996-10-29   \n",
       "897223              1           0         N      N       1996-04-13   \n",
       "898373              1           0         N      N       1987-04-01   \n",
       "899107              1           0         N      N       1998-01-31   \n",
       "\n",
       "        DisbursementGross  BalanceGross MIS_Status  ChgOffPrinGr    GrAppv  \\\n",
       "481              350000.0           0.0     CHGOFF      311636.0  350000.0   \n",
       "1548              56400.0           0.0      P I F           0.0   56400.0   \n",
       "1655              27000.0           0.0      P I F           0.0   27000.0   \n",
       "6907              75000.0           0.0      P I F           0.0   75000.0   \n",
       "13804             40600.0           0.0      P I F           0.0   40600.0   \n",
       "...                   ...           ...        ...           ...       ...   \n",
       "896648           125000.0           0.0     CHGOFF      118002.0  125000.0   \n",
       "896854            90000.0           0.0      P I F           0.0   90000.0   \n",
       "897223           180000.0           0.0      P I F           0.0  180000.0   \n",
       "898373            50000.0           0.0      P I F           0.0   50000.0   \n",
       "899107           100000.0           0.0      P I F           0.0  100000.0   \n",
       "\n",
       "        SBA_Appv  \n",
       "481     315000.0  \n",
       "1548     45120.0  \n",
       "1655     21600.0  \n",
       "6907     60000.0  \n",
       "13804    32480.0  \n",
       "...          ...  \n",
       "896648   93750.0  \n",
       "896854   72000.0  \n",
       "897223  135000.0  \n",
       "898373   37500.0  \n",
       "899107   75000.0  \n",
       "\n",
       "[784 rows x 26 columns]"
      ]
     },
     "execution_count": 20,
     "metadata": {},
     "output_type": "execute_result"
    }
   ],
   "source": [
    "invalid_data=df[df.DisbursementDate<df.ApprovalDate]\n",
    "invalid_data"
   ]
  },
  {
   "cell_type": "code",
   "execution_count": 21,
   "metadata": {},
   "outputs": [],
   "source": [
    "# Dropping Inconsistencies\n",
    "df.drop(invalid_data.index,axis=0,inplace=True)"
   ]
  },
  {
   "cell_type": "code",
   "execution_count": 22,
   "metadata": {},
   "outputs": [
    {
     "data": {
      "text/plain": [
       "0"
      ]
     },
     "execution_count": 22,
     "metadata": {},
     "output_type": "execute_result"
    }
   ],
   "source": [
    "# Confirming Drop\n",
    "len(df[df.DisbursementDate<df.ApprovalDate])"
   ]
  },
  {
   "cell_type": "code",
   "execution_count": 23,
   "metadata": {},
   "outputs": [],
   "source": [
    "# Sorting the DataFrame\n",
    "df = df.sort_values(by=['ApprovalDate']).reset_index(drop=True)"
   ]
  },
  {
   "cell_type": "code",
   "execution_count": 24,
   "metadata": {
    "scrolled": true
   },
   "outputs": [
    {
     "data": {
      "text/html": [
       "<div>\n",
       "<style scoped>\n",
       "    .dataframe tbody tr th:only-of-type {\n",
       "        vertical-align: middle;\n",
       "    }\n",
       "\n",
       "    .dataframe tbody tr th {\n",
       "        vertical-align: top;\n",
       "    }\n",
       "\n",
       "    .dataframe thead th {\n",
       "        text-align: right;\n",
       "    }\n",
       "</style>\n",
       "<table border=\"1\" class=\"dataframe\">\n",
       "  <thead>\n",
       "    <tr style=\"text-align: right;\">\n",
       "      <th></th>\n",
       "      <th>LoanNr_ChkDgt</th>\n",
       "      <th>Name</th>\n",
       "      <th>City</th>\n",
       "      <th>State</th>\n",
       "      <th>Zip</th>\n",
       "      <th>Bank</th>\n",
       "      <th>BankState</th>\n",
       "      <th>NAICS</th>\n",
       "      <th>ApprovalDate</th>\n",
       "      <th>ApprovalFY</th>\n",
       "      <th>Term</th>\n",
       "      <th>NoEmp</th>\n",
       "      <th>NewExist</th>\n",
       "      <th>CreateJob</th>\n",
       "      <th>RetainedJob</th>\n",
       "      <th>FranchiseCode</th>\n",
       "      <th>UrbanRural</th>\n",
       "      <th>RevLineCr</th>\n",
       "      <th>LowDoc</th>\n",
       "      <th>DisbursementDate</th>\n",
       "      <th>DisbursementGross</th>\n",
       "      <th>BalanceGross</th>\n",
       "      <th>MIS_Status</th>\n",
       "      <th>ChgOffPrinGr</th>\n",
       "      <th>GrAppv</th>\n",
       "      <th>SBA_Appv</th>\n",
       "    </tr>\n",
       "  </thead>\n",
       "  <tbody>\n",
       "    <tr>\n",
       "      <th>0</th>\n",
       "      <td>2357951001</td>\n",
       "      <td>WINSLOW CORP</td>\n",
       "      <td>BERLIN</td>\n",
       "      <td>NJ</td>\n",
       "      <td>8009</td>\n",
       "      <td>PNC BANK, NATIONAL ASSOCIATION</td>\n",
       "      <td>NJ</td>\n",
       "      <td>0</td>\n",
       "      <td>1973-02-06</td>\n",
       "      <td>1973</td>\n",
       "      <td>120</td>\n",
       "      <td>5</td>\n",
       "      <td>1.0</td>\n",
       "      <td>0</td>\n",
       "      <td>0</td>\n",
       "      <td>0</td>\n",
       "      <td>0</td>\n",
       "      <td>N</td>\n",
       "      <td>N</td>\n",
       "      <td>1973-02-27</td>\n",
       "      <td>200000.0</td>\n",
       "      <td>0.0</td>\n",
       "      <td>CHGOFF</td>\n",
       "      <td>199955.0</td>\n",
       "      <td>200000.0</td>\n",
       "      <td>180000.0</td>\n",
       "    </tr>\n",
       "    <tr>\n",
       "      <th>1</th>\n",
       "      <td>4160941004</td>\n",
       "      <td>THE BUCKSKIN</td>\n",
       "      <td>QUEMADO</td>\n",
       "      <td>NM</td>\n",
       "      <td>87829</td>\n",
       "      <td>FIRST STATE BANK</td>\n",
       "      <td>NM</td>\n",
       "      <td>0</td>\n",
       "      <td>1973-02-14</td>\n",
       "      <td>1973</td>\n",
       "      <td>230</td>\n",
       "      <td>2</td>\n",
       "      <td>1.0</td>\n",
       "      <td>0</td>\n",
       "      <td>0</td>\n",
       "      <td>0</td>\n",
       "      <td>0</td>\n",
       "      <td>N</td>\n",
       "      <td>N</td>\n",
       "      <td>1973-06-08</td>\n",
       "      <td>155000.0</td>\n",
       "      <td>0.0</td>\n",
       "      <td>CHGOFF</td>\n",
       "      <td>71574.0</td>\n",
       "      <td>155000.0</td>\n",
       "      <td>139500.0</td>\n",
       "    </tr>\n",
       "    <tr>\n",
       "      <th>2</th>\n",
       "      <td>3527741006</td>\n",
       "      <td>MOBICENTRICS INC</td>\n",
       "      <td>BRONX</td>\n",
       "      <td>NY</td>\n",
       "      <td>10451</td>\n",
       "      <td>BANK OF AMERICA NATL ASSOC</td>\n",
       "      <td>NY</td>\n",
       "      <td>0</td>\n",
       "      <td>1973-02-23</td>\n",
       "      <td>1973</td>\n",
       "      <td>180</td>\n",
       "      <td>16</td>\n",
       "      <td>1.0</td>\n",
       "      <td>0</td>\n",
       "      <td>0</td>\n",
       "      <td>0</td>\n",
       "      <td>0</td>\n",
       "      <td>N</td>\n",
       "      <td>N</td>\n",
       "      <td>1973-03-29</td>\n",
       "      <td>150000.0</td>\n",
       "      <td>0.0</td>\n",
       "      <td>CHGOFF</td>\n",
       "      <td>10471.0</td>\n",
       "      <td>150000.0</td>\n",
       "      <td>135000.0</td>\n",
       "    </tr>\n",
       "    <tr>\n",
       "      <th>3</th>\n",
       "      <td>3227931002</td>\n",
       "      <td>AMERICANA INSTITUTE OF DAY CAR</td>\n",
       "      <td>GLEN ARDEN</td>\n",
       "      <td>MD</td>\n",
       "      <td>20027</td>\n",
       "      <td>BANK OF AMERICA NATL ASSOC</td>\n",
       "      <td>VA</td>\n",
       "      <td>0</td>\n",
       "      <td>1973-02-28</td>\n",
       "      <td>1973</td>\n",
       "      <td>120</td>\n",
       "      <td>1</td>\n",
       "      <td>2.0</td>\n",
       "      <td>0</td>\n",
       "      <td>0</td>\n",
       "      <td>0</td>\n",
       "      <td>0</td>\n",
       "      <td>N</td>\n",
       "      <td>N</td>\n",
       "      <td>1973-04-12</td>\n",
       "      <td>70000.0</td>\n",
       "      <td>0.0</td>\n",
       "      <td>CHGOFF</td>\n",
       "      <td>0.0</td>\n",
       "      <td>70000.0</td>\n",
       "      <td>63000.0</td>\n",
       "    </tr>\n",
       "    <tr>\n",
       "      <th>4</th>\n",
       "      <td>5090841007</td>\n",
       "      <td>JAMES E SEARS</td>\n",
       "      <td>LINCOLN</td>\n",
       "      <td>NE</td>\n",
       "      <td>68502</td>\n",
       "      <td>THE BANK</td>\n",
       "      <td>KS</td>\n",
       "      <td>0</td>\n",
       "      <td>1973-03-07</td>\n",
       "      <td>1973</td>\n",
       "      <td>168</td>\n",
       "      <td>1</td>\n",
       "      <td>1.0</td>\n",
       "      <td>0</td>\n",
       "      <td>0</td>\n",
       "      <td>17750</td>\n",
       "      <td>0</td>\n",
       "      <td>N</td>\n",
       "      <td>N</td>\n",
       "      <td>1973-03-16</td>\n",
       "      <td>18000.0</td>\n",
       "      <td>0.0</td>\n",
       "      <td>CHGOFF</td>\n",
       "      <td>175.0</td>\n",
       "      <td>18000.0</td>\n",
       "      <td>16200.0</td>\n",
       "    </tr>\n",
       "  </tbody>\n",
       "</table>\n",
       "</div>"
      ],
      "text/plain": [
       "   LoanNr_ChkDgt                            Name        City State    Zip  \\\n",
       "0     2357951001                    WINSLOW CORP      BERLIN    NJ   8009   \n",
       "1     4160941004                    THE BUCKSKIN     QUEMADO    NM  87829   \n",
       "2     3527741006                MOBICENTRICS INC       BRONX    NY  10451   \n",
       "3     3227931002  AMERICANA INSTITUTE OF DAY CAR  GLEN ARDEN    MD  20027   \n",
       "4     5090841007                   JAMES E SEARS     LINCOLN    NE  68502   \n",
       "\n",
       "                             Bank BankState  NAICS ApprovalDate ApprovalFY  \\\n",
       "0  PNC BANK, NATIONAL ASSOCIATION        NJ      0   1973-02-06       1973   \n",
       "1                FIRST STATE BANK        NM      0   1973-02-14       1973   \n",
       "2      BANK OF AMERICA NATL ASSOC        NY      0   1973-02-23       1973   \n",
       "3      BANK OF AMERICA NATL ASSOC        VA      0   1973-02-28       1973   \n",
       "4                        THE BANK        KS      0   1973-03-07       1973   \n",
       "\n",
       "   Term  NoEmp  NewExist  CreateJob  RetainedJob  FranchiseCode  UrbanRural  \\\n",
       "0   120      5       1.0          0            0              0           0   \n",
       "1   230      2       1.0          0            0              0           0   \n",
       "2   180     16       1.0          0            0              0           0   \n",
       "3   120      1       2.0          0            0              0           0   \n",
       "4   168      1       1.0          0            0          17750           0   \n",
       "\n",
       "  RevLineCr LowDoc DisbursementDate  DisbursementGross  BalanceGross  \\\n",
       "0         N      N       1973-02-27           200000.0           0.0   \n",
       "1         N      N       1973-06-08           155000.0           0.0   \n",
       "2         N      N       1973-03-29           150000.0           0.0   \n",
       "3         N      N       1973-04-12            70000.0           0.0   \n",
       "4         N      N       1973-03-16            18000.0           0.0   \n",
       "\n",
       "  MIS_Status  ChgOffPrinGr    GrAppv  SBA_Appv  \n",
       "0     CHGOFF      199955.0  200000.0  180000.0  \n",
       "1     CHGOFF       71574.0  155000.0  139500.0  \n",
       "2     CHGOFF       10471.0  150000.0  135000.0  \n",
       "3     CHGOFF           0.0   70000.0   63000.0  \n",
       "4     CHGOFF         175.0   18000.0   16200.0  "
      ]
     },
     "execution_count": 24,
     "metadata": {},
     "output_type": "execute_result"
    }
   ],
   "source": [
    "# Displaying the DataFrame\n",
    "df.head()"
   ]
  },
  {
   "cell_type": "markdown",
   "metadata": {},
   "source": [
    "Cleaning `NewExist` Column (Whether a business is new or has been in operation), as we didn't have sufficient information on what `0.0` represented, we proceeded to backfill those values. "
   ]
  },
  {
   "cell_type": "code",
   "execution_count": 25,
   "metadata": {},
   "outputs": [
    {
     "data": {
      "text/plain": [
       "NewExist\n",
       "1.0    635560\n",
       "2.0    248875\n",
       "0.0      1021\n",
       "Name: count, dtype: int64"
      ]
     },
     "execution_count": 25,
     "metadata": {},
     "output_type": "execute_result"
    }
   ],
   "source": [
    "# Checking Value Counts\n",
    "df.NewExist.value_counts()"
   ]
  },
  {
   "cell_type": "code",
   "execution_count": 26,
   "metadata": {},
   "outputs": [],
   "source": [
    "# Replacing 0.0 values with null\n",
    "df.NewExist=df.NewExist.replace(0.0,np.nan)"
   ]
  },
  {
   "cell_type": "code",
   "execution_count": 27,
   "metadata": {},
   "outputs": [
    {
     "name": "stderr",
     "output_type": "stream",
     "text": [
      "<ipython-input-27-08e73c570d5c>:2: FutureWarning: DataFrame.backfill/Series.backfill is deprecated. Use DataFrame.bfill/Series.bfill instead\n",
      "  df.NewExist=df.NewExist.backfill()\n"
     ]
    }
   ],
   "source": [
    "# Backfilling null values\n",
    "df.NewExist=df.NewExist.backfill()"
   ]
  },
  {
   "cell_type": "code",
   "execution_count": 28,
   "metadata": {},
   "outputs": [
    {
     "data": {
      "text/plain": [
       "0"
      ]
     },
     "execution_count": 28,
     "metadata": {},
     "output_type": "execute_result"
    }
   ],
   "source": [
    "# Confirming replacement\n",
    "df.NewExist.isnull().sum()"
   ]
  },
  {
   "cell_type": "code",
   "execution_count": 29,
   "metadata": {},
   "outputs": [
    {
     "data": {
      "text/plain": [
       "NewExist\n",
       "1.0    636300\n",
       "2.0    249156\n",
       "Name: count, dtype: int64"
      ]
     },
     "execution_count": 29,
     "metadata": {},
     "output_type": "execute_result"
    }
   ],
   "source": [
    "# Displaying value counts\n",
    "df.NewExist.value_counts()"
   ]
  },
  {
   "cell_type": "markdown",
   "metadata": {},
   "source": [
    "## <b> Feature Engineering </b>\n",
    "\n",
    "We proceeded to do feature engineering on the data, this included creating a new column `Industry`, that was mapped to the NAICS [code](https://www.census.gov/naics/?58967?yearbck=2022), this was to create deeper understanding as well as help in the preceding sections of the analysis. "
   ]
  },
  {
   "cell_type": "code",
   "execution_count": 30,
   "metadata": {},
   "outputs": [
    {
     "data": {
      "text/plain": [
       "70.84415148804683"
      ]
     },
     "execution_count": 30,
     "metadata": {},
     "output_type": "execute_result"
    }
   ],
   "source": [
    "# Computing SBA Approved as a percentage of Gross Approved\n",
    "df['PercentageAprroved']=(df.SBA_Appv/df.GrAppv)*100\n",
    "df['PercentageAprroved']=round(df['PercentageAprroved'],1).astype(int)\n",
    "df['PercentageAprroved'].mean()"
   ]
  },
  {
   "cell_type": "code",
   "execution_count": 31,
   "metadata": {},
   "outputs": [],
   "source": [
    "# Engineering Industry Column\n",
    "df['Industry'] = df['NAICS'].astype('str').apply(lambda x: x[:2])\n",
    "df['Industry'] = df['Industry'].map({\n",
    "    '11': 'Ag/For/Fish/Hunt',\n",
    "    '21': 'Min/Quar/Oil_Gas_ext',\n",
    "    '22': 'Utilities',\n",
    "    '23': 'Construction',\n",
    "    '31': 'Manufacturing',\n",
    "    '32': 'Manufacturing',\n",
    "    '33': 'Manufacturing',\n",
    "    '42': 'Wholesale_trade',\n",
    "    '44': 'Retail_trade',\n",
    "    '45': 'Retail_trade',\n",
    "    '48': 'Trans/Ware',\n",
    "    '49': 'Trans/Ware',\n",
    "    '51': 'Information',\n",
    "    '52': 'Finance/Insurance',\n",
    "    '53': 'RE/Rental/Lease',\n",
    "    '54': 'Prof/Science/Tech',\n",
    "    '55': 'Mgmt_comp',\n",
    "    '56': 'Admin_sup/Waste_Mgmt_Rem',\n",
    "    '61': 'Educational',\n",
    "    '62': 'Healthcare/Social_assist',\n",
    "    '71': 'Arts/Entertain/Rec',\n",
    "    '72': 'Accom/Food_serv',\n",
    "    '81': 'Other_no_pub',\n",
    "    '92': 'Public_Admin',\n",
    "    '0': 'Other'\n",
    "})"
   ]
  },
  {
   "cell_type": "markdown",
   "metadata": {},
   "source": [
    "## <b> Feature Selection </b>\n",
    "\n",
    "In this section of the analysis, the key columns for the project were selected, while the other columns were dropped off. \n",
    "\n",
    "The key features that were chosen are the following `GrAppv`, `Term`, `NoEmp`, `NewExist`, `Industry`, and `MIS_Status`. "
   ]
  },
  {
   "cell_type": "code",
   "execution_count": 32,
   "metadata": {
    "scrolled": false
   },
   "outputs": [
    {
     "data": {
      "text/html": [
       "<div>\n",
       "<style scoped>\n",
       "    .dataframe tbody tr th:only-of-type {\n",
       "        vertical-align: middle;\n",
       "    }\n",
       "\n",
       "    .dataframe tbody tr th {\n",
       "        vertical-align: top;\n",
       "    }\n",
       "\n",
       "    .dataframe thead th {\n",
       "        text-align: right;\n",
       "    }\n",
       "</style>\n",
       "<table border=\"1\" class=\"dataframe\">\n",
       "  <thead>\n",
       "    <tr style=\"text-align: right;\">\n",
       "      <th></th>\n",
       "      <th>GrAppv</th>\n",
       "      <th>Term</th>\n",
       "      <th>NoEmp</th>\n",
       "      <th>NewExist</th>\n",
       "      <th>UrbanRural</th>\n",
       "      <th>Industry</th>\n",
       "      <th>MIS_Status</th>\n",
       "    </tr>\n",
       "  </thead>\n",
       "  <tbody>\n",
       "    <tr>\n",
       "      <th>0</th>\n",
       "      <td>200000.0</td>\n",
       "      <td>120</td>\n",
       "      <td>5</td>\n",
       "      <td>1.0</td>\n",
       "      <td>0</td>\n",
       "      <td>Other</td>\n",
       "      <td>CHGOFF</td>\n",
       "    </tr>\n",
       "    <tr>\n",
       "      <th>1</th>\n",
       "      <td>155000.0</td>\n",
       "      <td>230</td>\n",
       "      <td>2</td>\n",
       "      <td>1.0</td>\n",
       "      <td>0</td>\n",
       "      <td>Other</td>\n",
       "      <td>CHGOFF</td>\n",
       "    </tr>\n",
       "    <tr>\n",
       "      <th>2</th>\n",
       "      <td>150000.0</td>\n",
       "      <td>180</td>\n",
       "      <td>16</td>\n",
       "      <td>1.0</td>\n",
       "      <td>0</td>\n",
       "      <td>Other</td>\n",
       "      <td>CHGOFF</td>\n",
       "    </tr>\n",
       "    <tr>\n",
       "      <th>3</th>\n",
       "      <td>70000.0</td>\n",
       "      <td>120</td>\n",
       "      <td>1</td>\n",
       "      <td>2.0</td>\n",
       "      <td>0</td>\n",
       "      <td>Other</td>\n",
       "      <td>CHGOFF</td>\n",
       "    </tr>\n",
       "    <tr>\n",
       "      <th>4</th>\n",
       "      <td>18000.0</td>\n",
       "      <td>168</td>\n",
       "      <td>1</td>\n",
       "      <td>1.0</td>\n",
       "      <td>0</td>\n",
       "      <td>Other</td>\n",
       "      <td>CHGOFF</td>\n",
       "    </tr>\n",
       "    <tr>\n",
       "      <th>...</th>\n",
       "      <td>...</td>\n",
       "      <td>...</td>\n",
       "      <td>...</td>\n",
       "      <td>...</td>\n",
       "      <td>...</td>\n",
       "      <td>...</td>\n",
       "      <td>...</td>\n",
       "    </tr>\n",
       "    <tr>\n",
       "      <th>885451</th>\n",
       "      <td>350000.0</td>\n",
       "      <td>264</td>\n",
       "      <td>4</td>\n",
       "      <td>2.0</td>\n",
       "      <td>0</td>\n",
       "      <td>Other</td>\n",
       "      <td>P I F</td>\n",
       "    </tr>\n",
       "    <tr>\n",
       "      <th>885452</th>\n",
       "      <td>28000.0</td>\n",
       "      <td>162</td>\n",
       "      <td>3</td>\n",
       "      <td>1.0</td>\n",
       "      <td>0</td>\n",
       "      <td>Other</td>\n",
       "      <td>CHGOFF</td>\n",
       "    </tr>\n",
       "    <tr>\n",
       "      <th>885453</th>\n",
       "      <td>100000.0</td>\n",
       "      <td>84</td>\n",
       "      <td>40</td>\n",
       "      <td>2.0</td>\n",
       "      <td>0</td>\n",
       "      <td>Other</td>\n",
       "      <td>CHGOFF</td>\n",
       "    </tr>\n",
       "    <tr>\n",
       "      <th>885454</th>\n",
       "      <td>200000.0</td>\n",
       "      <td>102</td>\n",
       "      <td>30</td>\n",
       "      <td>1.0</td>\n",
       "      <td>0</td>\n",
       "      <td>Other</td>\n",
       "      <td>CHGOFF</td>\n",
       "    </tr>\n",
       "    <tr>\n",
       "      <th>885455</th>\n",
       "      <td>20000.0</td>\n",
       "      <td>84</td>\n",
       "      <td>5</td>\n",
       "      <td>1.0</td>\n",
       "      <td>0</td>\n",
       "      <td>Other</td>\n",
       "      <td>CHGOFF</td>\n",
       "    </tr>\n",
       "  </tbody>\n",
       "</table>\n",
       "<p>885456 rows × 7 columns</p>\n",
       "</div>"
      ],
      "text/plain": [
       "          GrAppv  Term  NoEmp  NewExist  UrbanRural Industry MIS_Status\n",
       "0       200000.0   120      5       1.0           0    Other     CHGOFF\n",
       "1       155000.0   230      2       1.0           0    Other     CHGOFF\n",
       "2       150000.0   180     16       1.0           0    Other     CHGOFF\n",
       "3        70000.0   120      1       2.0           0    Other     CHGOFF\n",
       "4        18000.0   168      1       1.0           0    Other     CHGOFF\n",
       "...          ...   ...    ...       ...         ...      ...        ...\n",
       "885451  350000.0   264      4       2.0           0    Other      P I F\n",
       "885452   28000.0   162      3       1.0           0    Other     CHGOFF\n",
       "885453  100000.0    84     40       2.0           0    Other     CHGOFF\n",
       "885454  200000.0   102     30       1.0           0    Other     CHGOFF\n",
       "885455   20000.0    84      5       1.0           0    Other     CHGOFF\n",
       "\n",
       "[885456 rows x 7 columns]"
      ]
     },
     "execution_count": 32,
     "metadata": {},
     "output_type": "execute_result"
    }
   ],
   "source": [
    "relevant_columns=['GrAppv', 'Term', 'NoEmp','NewExist', 'UrbanRural', 'Industry','MIS_Status']\n",
    "df=df.loc[:,relevant_columns]\n",
    "df"
   ]
  },
  {
   "cell_type": "markdown",
   "metadata": {},
   "source": [
    "## **Exploratory Data Analysis**\n",
    "\n",
    "To further understand our data, we explored the variables that will be useful in the project. \n",
    "This included doing a univariate analysis on the numerical columns, as well as performing a multivariate analysis by using a correlation matrix. "
   ]
  },
  {
   "cell_type": "markdown",
   "metadata": {},
   "source": [
    "### **Univariate Analysis**"
   ]
  },
  {
   "cell_type": "code",
   "execution_count": 33,
   "metadata": {
    "scrolled": true
   },
   "outputs": [
    {
     "data": {
      "image/png": "[encoded data removed]",
      "text/plain": [
       "<Figure size 432x864 with 5 Axes>"
      ]
     },
     "metadata": {
      "needs_background": "light"
     },
     "output_type": "display_data"
    }
   ],
   "source": [
    "colors=['black','blue','green','orange','pink']\n",
    "numeric_columns = df.select_dtypes(['int64','float64']).columns\n",
    "def plot_histograms(df, columns):\n",
    "    fig, axs = plt.subplots(ncols=1, nrows=len(columns), figsize=(6,12))\n",
    "    for i, col in enumerate(columns):\n",
    "        axs[i].hist(df[col], bins=50,color=colors[i])\n",
    "        axs[i].set_title(col)\n",
    "    plt.subplots_adjust(wspace=0.2,hspace=0.4)\n",
    "    plt.show()\n",
    "plot_histograms(df,numeric_columns)"
   ]
  },
  {
   "cell_type": "markdown",
   "metadata": {},
   "source": [
    "Based on this univariate analysis for the numerical columns, we note that the numerical columns are not normally distributed. In order to deal with this, we will do log transformation at the pre-processing stage. "
   ]
  },
  {
   "cell_type": "code",
   "execution_count": 34,
   "metadata": {},
   "outputs": [
    {
     "data": {
      "image/png": "[encoded data removed]",
      "text/plain": [
       "<Figure size 432x288 with 1 Axes>"
      ]
     },
     "metadata": {
      "needs_background": "light"
     },
     "output_type": "display_data"
    },
    {
     "data": {
      "image/png": "[encoded data removed]",
      "text/plain": [
       "<Figure size 432x288 with 1 Axes>"
      ]
     },
     "metadata": {
      "needs_background": "light"
     },
     "output_type": "display_data"
    }
   ],
   "source": [
    "# Define a function that plots the categorical columns\n",
    "def plot_categorical_columns(df, categorical_columns):\n",
    "    color = '#263F6B'  \n",
    "\n",
    "    for column in categorical_columns:\n",
    "        ax = df[column].value_counts().plot(kind='bar', color=color)\n",
    "        ax.set_xlabel(column)\n",
    "        ax.set_ylabel('Count')\n",
    "        ax.set_title(f'Distribution of {column}')\n",
    "        plt.xticks(rotation=90)  \n",
    "        \n",
    "        plt.show()\n",
    "# Categorical Columns\n",
    "\n",
    "categorical_columns = ['MIS_Status', 'Industry']\n",
    "\n",
    "plot_categorical_columns(df, categorical_columns)"
   ]
  },
  {
   "cell_type": "markdown",
   "metadata": {},
   "source": [
    "Based on the univariate analysis for the categorical columns, we observe the following:\n",
    "\n",
    "<b> Distribution of the MIS_Status</b>\n",
    "- 82 % of the loans that were approved, were Paid in Full (PIF)\n",
    "\n",
    "- 18 % of the loans approved were Charged Off (CHGOFF)\n",
    "\n",
    "<b> Distribution of the Industry </b>\n",
    "\n",
    "The top industries from the dataset were:\n",
    "\n",
    "1. Other/Miscellaneous \n",
    "2. Retail trade\n",
    "3. Manufacturing\n",
    "4. Accommodation and Foodservice "
   ]
  },
  {
   "cell_type": "markdown",
   "metadata": {},
   "source": [
    "### Multivariate Analysis "
   ]
  },
  {
   "cell_type": "code",
   "execution_count": 35,
   "metadata": {},
   "outputs": [
    {
     "data": {
      "image/png": "[encoded data removed]",
      "text/plain": [
       "<Figure size 1944x576 with 2 Axes>"
      ]
     },
     "metadata": {
      "needs_background": "light"
     },
     "output_type": "display_data"
    }
   ],
   "source": [
    "# Create a new DataFrame for encoded variables\n",
    "# Perform label encoding on each categorical column\n",
    "encoded_df=pd.DataFrame()\n",
    "for column in df.columns:\n",
    "    if df[column].dtype == 'object':\n",
    "        encoded_df[column] = df[column].astype('category').cat.codes\n",
    "    else:\n",
    "        encoded_df[column] = df[column]\n",
    "\n",
    "# Calculate the correlation matrix\n",
    "correlation_matrix = encoded_df.corr()\n",
    "\n",
    "# Plot the correlation matrix using a heatmap\n",
    "\n",
    "plt.figure(figsize=(27, 8))\n",
    "sns.heatmap(correlation_matrix, annot=True, cmap='coolwarm')\n",
    "plt.title(\"Correlation Matrix\")\n",
    "plt.show()"
   ]
  },
  {
   "cell_type": "markdown",
   "metadata": {},
   "source": [
    "* From the matrix, it is clear that the higher the job creation the higher the retention rate since the two have a correlation of ```99%```."
   ]
  },
  {
   "cell_type": "markdown",
   "metadata": {},
   "source": [
    "## <b> Preprocessing </b>\n",
    "\n",
    "#### Log Transformation"
   ]
  },
  {
   "cell_type": "code",
   "execution_count": 36,
   "metadata": {},
   "outputs": [],
   "source": [
    "# added a small positive constant to avoid log(0) and negative values\n",
    "small_constant = 1e-8 \n",
    "df[numeric_columns] = df[numeric_columns].apply(lambda x: x + small_constant)\n",
    "\n",
    "# Log transformation function\n",
    "def log_transform(x):\n",
    "    return np.log(x)\n",
    "\n",
    "# Apply log transformation to selected numeric columns\n",
    "df[numeric_columns] = df[numeric_columns].apply(log_transform)"
   ]
  },
  {
   "cell_type": "code",
   "execution_count": 37,
   "metadata": {},
   "outputs": [
    {
     "data": {
      "text/html": [
       "<div>\n",
       "<style scoped>\n",
       "    .dataframe tbody tr th:only-of-type {\n",
       "        vertical-align: middle;\n",
       "    }\n",
       "\n",
       "    .dataframe tbody tr th {\n",
       "        vertical-align: top;\n",
       "    }\n",
       "\n",
       "    .dataframe thead th {\n",
       "        text-align: right;\n",
       "    }\n",
       "</style>\n",
       "<table border=\"1\" class=\"dataframe\">\n",
       "  <thead>\n",
       "    <tr style=\"text-align: right;\">\n",
       "      <th></th>\n",
       "      <th>GrAppv</th>\n",
       "      <th>Term</th>\n",
       "      <th>NoEmp</th>\n",
       "      <th>NewExist</th>\n",
       "      <th>UrbanRural</th>\n",
       "    </tr>\n",
       "  </thead>\n",
       "  <tbody>\n",
       "    <tr>\n",
       "      <th>0</th>\n",
       "      <td>12.206073</td>\n",
       "      <td>4.787492</td>\n",
       "      <td>1.609438e+00</td>\n",
       "      <td>1.000000e-08</td>\n",
       "      <td>-18.420681</td>\n",
       "    </tr>\n",
       "    <tr>\n",
       "      <th>1</th>\n",
       "      <td>11.951180</td>\n",
       "      <td>5.438079</td>\n",
       "      <td>6.931472e-01</td>\n",
       "      <td>1.000000e-08</td>\n",
       "      <td>-18.420681</td>\n",
       "    </tr>\n",
       "    <tr>\n",
       "      <th>2</th>\n",
       "      <td>11.918391</td>\n",
       "      <td>5.192957</td>\n",
       "      <td>2.772589e+00</td>\n",
       "      <td>1.000000e-08</td>\n",
       "      <td>-18.420681</td>\n",
       "    </tr>\n",
       "    <tr>\n",
       "      <th>3</th>\n",
       "      <td>11.156251</td>\n",
       "      <td>4.787492</td>\n",
       "      <td>1.000000e-08</td>\n",
       "      <td>6.931472e-01</td>\n",
       "      <td>-18.420681</td>\n",
       "    </tr>\n",
       "    <tr>\n",
       "      <th>4</th>\n",
       "      <td>9.798127</td>\n",
       "      <td>5.123964</td>\n",
       "      <td>1.000000e-08</td>\n",
       "      <td>1.000000e-08</td>\n",
       "      <td>-18.420681</td>\n",
       "    </tr>\n",
       "    <tr>\n",
       "      <th>...</th>\n",
       "      <td>...</td>\n",
       "      <td>...</td>\n",
       "      <td>...</td>\n",
       "      <td>...</td>\n",
       "      <td>...</td>\n",
       "    </tr>\n",
       "    <tr>\n",
       "      <th>885451</th>\n",
       "      <td>12.765688</td>\n",
       "      <td>5.575949</td>\n",
       "      <td>1.386294e+00</td>\n",
       "      <td>6.931472e-01</td>\n",
       "      <td>-18.420681</td>\n",
       "    </tr>\n",
       "    <tr>\n",
       "      <th>885452</th>\n",
       "      <td>10.239960</td>\n",
       "      <td>5.087596</td>\n",
       "      <td>1.098612e+00</td>\n",
       "      <td>1.000000e-08</td>\n",
       "      <td>-18.420681</td>\n",
       "    </tr>\n",
       "    <tr>\n",
       "      <th>885453</th>\n",
       "      <td>11.512925</td>\n",
       "      <td>4.430817</td>\n",
       "      <td>3.688879e+00</td>\n",
       "      <td>6.931472e-01</td>\n",
       "      <td>-18.420681</td>\n",
       "    </tr>\n",
       "    <tr>\n",
       "      <th>885454</th>\n",
       "      <td>12.206073</td>\n",
       "      <td>4.624973</td>\n",
       "      <td>3.401197e+00</td>\n",
       "      <td>1.000000e-08</td>\n",
       "      <td>-18.420681</td>\n",
       "    </tr>\n",
       "    <tr>\n",
       "      <th>885455</th>\n",
       "      <td>9.903488</td>\n",
       "      <td>4.430817</td>\n",
       "      <td>1.609438e+00</td>\n",
       "      <td>1.000000e-08</td>\n",
       "      <td>-18.420681</td>\n",
       "    </tr>\n",
       "  </tbody>\n",
       "</table>\n",
       "<p>885456 rows × 5 columns</p>\n",
       "</div>"
      ],
      "text/plain": [
       "           GrAppv      Term         NoEmp      NewExist  UrbanRural\n",
       "0       12.206073  4.787492  1.609438e+00  1.000000e-08  -18.420681\n",
       "1       11.951180  5.438079  6.931472e-01  1.000000e-08  -18.420681\n",
       "2       11.918391  5.192957  2.772589e+00  1.000000e-08  -18.420681\n",
       "3       11.156251  4.787492  1.000000e-08  6.931472e-01  -18.420681\n",
       "4        9.798127  5.123964  1.000000e-08  1.000000e-08  -18.420681\n",
       "...           ...       ...           ...           ...         ...\n",
       "885451  12.765688  5.575949  1.386294e+00  6.931472e-01  -18.420681\n",
       "885452  10.239960  5.087596  1.098612e+00  1.000000e-08  -18.420681\n",
       "885453  11.512925  4.430817  3.688879e+00  6.931472e-01  -18.420681\n",
       "885454  12.206073  4.624973  3.401197e+00  1.000000e-08  -18.420681\n",
       "885455   9.903488  4.430817  1.609438e+00  1.000000e-08  -18.420681\n",
       "\n",
       "[885456 rows x 5 columns]"
      ]
     },
     "execution_count": 37,
     "metadata": {},
     "output_type": "execute_result"
    }
   ],
   "source": [
    "df[numeric_columns] # Checking the results after the log transformation "
   ]
  },
  {
   "cell_type": "code",
   "execution_count": 38,
   "metadata": {},
   "outputs": [
    {
     "ename": "ValueError",
     "evalue": "Multi-dimensional indexing (e.g. `obj[:, None]`) is no longer supported. Convert to a numpy array before indexing instead.",
     "output_type": "error",
     "traceback": [
      "\u001b[1;31m---------------------------------------------------------------------------\u001b[0m",
      "\u001b[1;31mValueError\u001b[0m                                Traceback (most recent call last)",
      "\u001b[1;32m<ipython-input-38-27b734c617a3>\u001b[0m in \u001b[0;36m<module>\u001b[1;34m\u001b[0m\n\u001b[0;32m      9\u001b[0m     \u001b[0mplt\u001b[0m\u001b[1;33m.\u001b[0m\u001b[0mshow\u001b[0m\u001b[1;33m(\u001b[0m\u001b[1;33m)\u001b[0m\u001b[1;33m\u001b[0m\u001b[1;33m\u001b[0m\u001b[0m\n\u001b[0;32m     10\u001b[0m \u001b[1;33m\u001b[0m\u001b[0m\n\u001b[1;32m---> 11\u001b[1;33m \u001b[0mplot_histograms_with_kde\u001b[0m\u001b[1;33m(\u001b[0m\u001b[0mdf\u001b[0m\u001b[1;33m,\u001b[0m \u001b[0mnumeric_columns\u001b[0m\u001b[1;33m)\u001b[0m\u001b[1;33m\u001b[0m\u001b[1;33m\u001b[0m\u001b[0m\n\u001b[0m",
      "\u001b[1;32m<ipython-input-38-27b734c617a3>\u001b[0m in \u001b[0;36mplot_histograms_with_kde\u001b[1;34m(df, columns)\u001b[0m\n\u001b[0;32m      5\u001b[0m         \u001b[0maxs\u001b[0m\u001b[1;33m[\u001b[0m\u001b[0mi\u001b[0m\u001b[1;33m,\u001b[0m \u001b[1;36m0\u001b[0m\u001b[1;33m]\u001b[0m\u001b[1;33m.\u001b[0m\u001b[0mhist\u001b[0m\u001b[1;33m(\u001b[0m\u001b[0mdf\u001b[0m\u001b[1;33m[\u001b[0m\u001b[0mcol\u001b[0m\u001b[1;33m]\u001b[0m\u001b[1;33m,\u001b[0m \u001b[0mbins\u001b[0m\u001b[1;33m=\u001b[0m\u001b[1;36m50\u001b[0m\u001b[1;33m,\u001b[0m \u001b[0mcolor\u001b[0m\u001b[1;33m=\u001b[0m\u001b[0mcolors\u001b[0m\u001b[1;33m[\u001b[0m\u001b[0mi\u001b[0m\u001b[1;33m]\u001b[0m\u001b[1;33m)\u001b[0m\u001b[1;33m\u001b[0m\u001b[1;33m\u001b[0m\u001b[0m\n\u001b[0;32m      6\u001b[0m         \u001b[0maxs\u001b[0m\u001b[1;33m[\u001b[0m\u001b[0mi\u001b[0m\u001b[1;33m,\u001b[0m \u001b[1;36m0\u001b[0m\u001b[1;33m]\u001b[0m\u001b[1;33m.\u001b[0m\u001b[0mset_title\u001b[0m\u001b[1;33m(\u001b[0m\u001b[0mcol\u001b[0m\u001b[1;33m)\u001b[0m\u001b[1;33m\u001b[0m\u001b[1;33m\u001b[0m\u001b[0m\n\u001b[1;32m----> 7\u001b[1;33m         \u001b[0msns\u001b[0m\u001b[1;33m.\u001b[0m\u001b[0mkdeplot\u001b[0m\u001b[1;33m(\u001b[0m\u001b[0mdata\u001b[0m\u001b[1;33m=\u001b[0m\u001b[0mdf\u001b[0m\u001b[1;33m,\u001b[0m \u001b[0mx\u001b[0m\u001b[1;33m=\u001b[0m\u001b[0mcol\u001b[0m\u001b[1;33m,\u001b[0m \u001b[0max\u001b[0m\u001b[1;33m=\u001b[0m\u001b[0maxs\u001b[0m\u001b[1;33m[\u001b[0m\u001b[0mi\u001b[0m\u001b[1;33m,\u001b[0m \u001b[1;36m1\u001b[0m\u001b[1;33m]\u001b[0m\u001b[1;33m,\u001b[0m \u001b[0mcolor\u001b[0m\u001b[1;33m=\u001b[0m\u001b[0mcolors\u001b[0m\u001b[1;33m[\u001b[0m\u001b[0mi\u001b[0m\u001b[1;33m]\u001b[0m\u001b[1;33m)\u001b[0m\u001b[1;33m\u001b[0m\u001b[1;33m\u001b[0m\u001b[0m\n\u001b[0m\u001b[0;32m      8\u001b[0m     \u001b[0mplt\u001b[0m\u001b[1;33m.\u001b[0m\u001b[0msubplots_adjust\u001b[0m\u001b[1;33m(\u001b[0m\u001b[0mwspace\u001b[0m\u001b[1;33m=\u001b[0m\u001b[1;36m0.4\u001b[0m\u001b[1;33m,\u001b[0m \u001b[0mhspace\u001b[0m\u001b[1;33m=\u001b[0m\u001b[1;36m0.4\u001b[0m\u001b[1;33m)\u001b[0m\u001b[1;33m\u001b[0m\u001b[1;33m\u001b[0m\u001b[0m\n\u001b[0;32m      9\u001b[0m     \u001b[0mplt\u001b[0m\u001b[1;33m.\u001b[0m\u001b[0mshow\u001b[0m\u001b[1;33m(\u001b[0m\u001b[1;33m)\u001b[0m\u001b[1;33m\u001b[0m\u001b[1;33m\u001b[0m\u001b[0m\n",
      "\u001b[1;32mc:\\Users\\HP\\anaconda3\\envs\\learn-env\\lib\\site-packages\\seaborn\\_decorators.py\u001b[0m in \u001b[0;36minner_f\u001b[1;34m(*args, **kwargs)\u001b[0m\n\u001b[0;32m     44\u001b[0m             )\n\u001b[0;32m     45\u001b[0m         \u001b[0mkwargs\u001b[0m\u001b[1;33m.\u001b[0m\u001b[0mupdate\u001b[0m\u001b[1;33m(\u001b[0m\u001b[1;33m{\u001b[0m\u001b[0mk\u001b[0m\u001b[1;33m:\u001b[0m \u001b[0marg\u001b[0m \u001b[1;32mfor\u001b[0m \u001b[0mk\u001b[0m\u001b[1;33m,\u001b[0m \u001b[0marg\u001b[0m \u001b[1;32min\u001b[0m \u001b[0mzip\u001b[0m\u001b[1;33m(\u001b[0m\u001b[0msig\u001b[0m\u001b[1;33m.\u001b[0m\u001b[0mparameters\u001b[0m\u001b[1;33m,\u001b[0m \u001b[0margs\u001b[0m\u001b[1;33m)\u001b[0m\u001b[1;33m}\u001b[0m\u001b[1;33m)\u001b[0m\u001b[1;33m\u001b[0m\u001b[1;33m\u001b[0m\u001b[0m\n\u001b[1;32m---> 46\u001b[1;33m         \u001b[1;32mreturn\u001b[0m \u001b[0mf\u001b[0m\u001b[1;33m(\u001b[0m\u001b[1;33m**\u001b[0m\u001b[0mkwargs\u001b[0m\u001b[1;33m)\u001b[0m\u001b[1;33m\u001b[0m\u001b[1;33m\u001b[0m\u001b[0m\n\u001b[0m\u001b[0;32m     47\u001b[0m     \u001b[1;32mreturn\u001b[0m \u001b[0minner_f\u001b[0m\u001b[1;33m\u001b[0m\u001b[1;33m\u001b[0m\u001b[0m\n\u001b[0;32m     48\u001b[0m \u001b[1;33m\u001b[0m\u001b[0m\n",
      "\u001b[1;32mc:\\Users\\HP\\anaconda3\\envs\\learn-env\\lib\\site-packages\\seaborn\\distributions.py\u001b[0m in \u001b[0;36mkdeplot\u001b[1;34m(x, y, shade, vertical, kernel, bw, gridsize, cut, clip, legend, cumulative, shade_lowest, cbar, cbar_ax, cbar_kws, ax, weights, hue, palette, hue_order, hue_norm, multiple, common_norm, common_grid, levels, thresh, bw_method, bw_adjust, log_scale, color, fill, data, data2, **kwargs)\u001b[0m\n\u001b[0;32m   1728\u001b[0m             \u001b[0mplot_kws\u001b[0m\u001b[1;33m[\u001b[0m\u001b[1;34m\"color\"\u001b[0m\u001b[1;33m]\u001b[0m \u001b[1;33m=\u001b[0m \u001b[0mcolor\u001b[0m\u001b[1;33m\u001b[0m\u001b[1;33m\u001b[0m\u001b[0m\n\u001b[0;32m   1729\u001b[0m \u001b[1;33m\u001b[0m\u001b[0m\n\u001b[1;32m-> 1730\u001b[1;33m         p.plot_univariate_density(\n\u001b[0m\u001b[0;32m   1731\u001b[0m             \u001b[0mmultiple\u001b[0m\u001b[1;33m=\u001b[0m\u001b[0mmultiple\u001b[0m\u001b[1;33m,\u001b[0m\u001b[1;33m\u001b[0m\u001b[1;33m\u001b[0m\u001b[0m\n\u001b[0;32m   1732\u001b[0m             \u001b[0mcommon_norm\u001b[0m\u001b[1;33m=\u001b[0m\u001b[0mcommon_norm\u001b[0m\u001b[1;33m,\u001b[0m\u001b[1;33m\u001b[0m\u001b[1;33m\u001b[0m\u001b[0m\n",
      "\u001b[1;32mc:\\Users\\HP\\anaconda3\\envs\\learn-env\\lib\\site-packages\\seaborn\\distributions.py\u001b[0m in \u001b[0;36mplot_univariate_density\u001b[1;34m(self, multiple, common_norm, common_grid, fill, legend, estimate_kws, **plot_kws)\u001b[0m\n\u001b[0;32m    993\u001b[0m                     )\n\u001b[0;32m    994\u001b[0m                 \u001b[1;32melse\u001b[0m\u001b[1;33m:\u001b[0m\u001b[1;33m\u001b[0m\u001b[1;33m\u001b[0m\u001b[0m\n\u001b[1;32m--> 995\u001b[1;33m                     \u001b[0martist\u001b[0m\u001b[1;33m,\u001b[0m \u001b[1;33m=\u001b[0m \u001b[0max\u001b[0m\u001b[1;33m.\u001b[0m\u001b[0mplot\u001b[0m\u001b[1;33m(\u001b[0m\u001b[0msupport\u001b[0m\u001b[1;33m,\u001b[0m \u001b[0mdensity\u001b[0m\u001b[1;33m,\u001b[0m \u001b[1;33m**\u001b[0m\u001b[0martist_kws\u001b[0m\u001b[1;33m)\u001b[0m\u001b[1;33m\u001b[0m\u001b[1;33m\u001b[0m\u001b[0m\n\u001b[0m\u001b[0;32m    996\u001b[0m \u001b[1;33m\u001b[0m\u001b[0m\n\u001b[0;32m    997\u001b[0m                 \u001b[0martist\u001b[0m\u001b[1;33m.\u001b[0m\u001b[0msticky_edges\u001b[0m\u001b[1;33m.\u001b[0m\u001b[0mx\u001b[0m\u001b[1;33m[\u001b[0m\u001b[1;33m:\u001b[0m\u001b[1;33m]\u001b[0m \u001b[1;33m=\u001b[0m \u001b[0msticky_support\u001b[0m\u001b[1;33m\u001b[0m\u001b[1;33m\u001b[0m\u001b[0m\n",
      "\u001b[1;32mc:\\Users\\HP\\anaconda3\\envs\\learn-env\\lib\\site-packages\\matplotlib\\axes\\_axes.py\u001b[0m in \u001b[0;36mplot\u001b[1;34m(self, scalex, scaley, data, *args, **kwargs)\u001b[0m\n\u001b[0;32m   1741\u001b[0m         \"\"\"\n\u001b[0;32m   1742\u001b[0m         \u001b[0mkwargs\u001b[0m \u001b[1;33m=\u001b[0m \u001b[0mcbook\u001b[0m\u001b[1;33m.\u001b[0m\u001b[0mnormalize_kwargs\u001b[0m\u001b[1;33m(\u001b[0m\u001b[0mkwargs\u001b[0m\u001b[1;33m,\u001b[0m \u001b[0mmlines\u001b[0m\u001b[1;33m.\u001b[0m\u001b[0mLine2D\u001b[0m\u001b[1;33m)\u001b[0m\u001b[1;33m\u001b[0m\u001b[1;33m\u001b[0m\u001b[0m\n\u001b[1;32m-> 1743\u001b[1;33m         \u001b[0mlines\u001b[0m \u001b[1;33m=\u001b[0m \u001b[1;33m[\u001b[0m\u001b[1;33m*\u001b[0m\u001b[0mself\u001b[0m\u001b[1;33m.\u001b[0m\u001b[0m_get_lines\u001b[0m\u001b[1;33m(\u001b[0m\u001b[1;33m*\u001b[0m\u001b[0margs\u001b[0m\u001b[1;33m,\u001b[0m \u001b[0mdata\u001b[0m\u001b[1;33m=\u001b[0m\u001b[0mdata\u001b[0m\u001b[1;33m,\u001b[0m \u001b[1;33m**\u001b[0m\u001b[0mkwargs\u001b[0m\u001b[1;33m)\u001b[0m\u001b[1;33m]\u001b[0m\u001b[1;33m\u001b[0m\u001b[1;33m\u001b[0m\u001b[0m\n\u001b[0m\u001b[0;32m   1744\u001b[0m         \u001b[1;32mfor\u001b[0m \u001b[0mline\u001b[0m \u001b[1;32min\u001b[0m \u001b[0mlines\u001b[0m\u001b[1;33m:\u001b[0m\u001b[1;33m\u001b[0m\u001b[1;33m\u001b[0m\u001b[0m\n\u001b[0;32m   1745\u001b[0m             \u001b[0mself\u001b[0m\u001b[1;33m.\u001b[0m\u001b[0madd_line\u001b[0m\u001b[1;33m(\u001b[0m\u001b[0mline\u001b[0m\u001b[1;33m)\u001b[0m\u001b[1;33m\u001b[0m\u001b[1;33m\u001b[0m\u001b[0m\n",
      "\u001b[1;32mc:\\Users\\HP\\anaconda3\\envs\\learn-env\\lib\\site-packages\\matplotlib\\axes\\_base.py\u001b[0m in \u001b[0;36m__call__\u001b[1;34m(self, data, *args, **kwargs)\u001b[0m\n\u001b[0;32m    271\u001b[0m                 \u001b[0mthis\u001b[0m \u001b[1;33m+=\u001b[0m \u001b[0margs\u001b[0m\u001b[1;33m[\u001b[0m\u001b[1;36m0\u001b[0m\u001b[1;33m]\u001b[0m\u001b[1;33m,\u001b[0m\u001b[1;33m\u001b[0m\u001b[1;33m\u001b[0m\u001b[0m\n\u001b[0;32m    272\u001b[0m                 \u001b[0margs\u001b[0m \u001b[1;33m=\u001b[0m \u001b[0margs\u001b[0m\u001b[1;33m[\u001b[0m\u001b[1;36m1\u001b[0m\u001b[1;33m:\u001b[0m\u001b[1;33m]\u001b[0m\u001b[1;33m\u001b[0m\u001b[1;33m\u001b[0m\u001b[0m\n\u001b[1;32m--> 273\u001b[1;33m             \u001b[1;32myield\u001b[0m \u001b[1;32mfrom\u001b[0m \u001b[0mself\u001b[0m\u001b[1;33m.\u001b[0m\u001b[0m_plot_args\u001b[0m\u001b[1;33m(\u001b[0m\u001b[0mthis\u001b[0m\u001b[1;33m,\u001b[0m \u001b[0mkwargs\u001b[0m\u001b[1;33m)\u001b[0m\u001b[1;33m\u001b[0m\u001b[1;33m\u001b[0m\u001b[0m\n\u001b[0m\u001b[0;32m    274\u001b[0m \u001b[1;33m\u001b[0m\u001b[0m\n\u001b[0;32m    275\u001b[0m     \u001b[1;32mdef\u001b[0m \u001b[0mget_next_color\u001b[0m\u001b[1;33m(\u001b[0m\u001b[0mself\u001b[0m\u001b[1;33m)\u001b[0m\u001b[1;33m:\u001b[0m\u001b[1;33m\u001b[0m\u001b[1;33m\u001b[0m\u001b[0m\n",
      "\u001b[1;32mc:\\Users\\HP\\anaconda3\\envs\\learn-env\\lib\\site-packages\\matplotlib\\axes\\_base.py\u001b[0m in \u001b[0;36m_plot_args\u001b[1;34m(self, tup, kwargs)\u001b[0m\n\u001b[0;32m    386\u001b[0m \u001b[1;33m\u001b[0m\u001b[0m\n\u001b[0;32m    387\u001b[0m         \u001b[1;32mif\u001b[0m \u001b[0mlen\u001b[0m\u001b[1;33m(\u001b[0m\u001b[0mtup\u001b[0m\u001b[1;33m)\u001b[0m \u001b[1;33m==\u001b[0m \u001b[1;36m2\u001b[0m\u001b[1;33m:\u001b[0m\u001b[1;33m\u001b[0m\u001b[1;33m\u001b[0m\u001b[0m\n\u001b[1;32m--> 388\u001b[1;33m             \u001b[0mx\u001b[0m \u001b[1;33m=\u001b[0m \u001b[0m_check_1d\u001b[0m\u001b[1;33m(\u001b[0m\u001b[0mtup\u001b[0m\u001b[1;33m[\u001b[0m\u001b[1;36m0\u001b[0m\u001b[1;33m]\u001b[0m\u001b[1;33m)\u001b[0m\u001b[1;33m\u001b[0m\u001b[1;33m\u001b[0m\u001b[0m\n\u001b[0m\u001b[0;32m    389\u001b[0m             \u001b[0my\u001b[0m \u001b[1;33m=\u001b[0m \u001b[0m_check_1d\u001b[0m\u001b[1;33m(\u001b[0m\u001b[0mtup\u001b[0m\u001b[1;33m[\u001b[0m\u001b[1;33m-\u001b[0m\u001b[1;36m1\u001b[0m\u001b[1;33m]\u001b[0m\u001b[1;33m)\u001b[0m\u001b[1;33m\u001b[0m\u001b[1;33m\u001b[0m\u001b[0m\n\u001b[0;32m    390\u001b[0m         \u001b[1;32melse\u001b[0m\u001b[1;33m:\u001b[0m\u001b[1;33m\u001b[0m\u001b[1;33m\u001b[0m\u001b[0m\n",
      "\u001b[1;32mc:\\Users\\HP\\anaconda3\\envs\\learn-env\\lib\\site-packages\\matplotlib\\cbook\\__init__.py\u001b[0m in \u001b[0;36m_check_1d\u001b[1;34m(x)\u001b[0m\n\u001b[0;32m   1316\u001b[0m                     message='Support for multi-dimensional indexing')\n\u001b[0;32m   1317\u001b[0m \u001b[1;33m\u001b[0m\u001b[0m\n\u001b[1;32m-> 1318\u001b[1;33m                 \u001b[0mndim\u001b[0m \u001b[1;33m=\u001b[0m \u001b[0mx\u001b[0m\u001b[1;33m[\u001b[0m\u001b[1;33m:\u001b[0m\u001b[1;33m,\u001b[0m \u001b[1;32mNone\u001b[0m\u001b[1;33m]\u001b[0m\u001b[1;33m.\u001b[0m\u001b[0mndim\u001b[0m\u001b[1;33m\u001b[0m\u001b[1;33m\u001b[0m\u001b[0m\n\u001b[0m\u001b[0;32m   1319\u001b[0m                 \u001b[1;31m# we have definitely hit a pandas index or series object\u001b[0m\u001b[1;33m\u001b[0m\u001b[1;33m\u001b[0m\u001b[1;33m\u001b[0m\u001b[0m\n\u001b[0;32m   1320\u001b[0m                 \u001b[1;31m# cast to a numpy array.\u001b[0m\u001b[1;33m\u001b[0m\u001b[1;33m\u001b[0m\u001b[1;33m\u001b[0m\u001b[0m\n",
      "\u001b[1;32mc:\\Users\\HP\\anaconda3\\envs\\learn-env\\lib\\site-packages\\pandas\\core\\indexes\\base.py\u001b[0m in \u001b[0;36m__getitem__\u001b[1;34m(self, key)\u001b[0m\n\u001b[0;32m   5197\u001b[0m         \u001b[1;31m# Because we ruled out integer above, we always get an arraylike here\u001b[0m\u001b[1;33m\u001b[0m\u001b[1;33m\u001b[0m\u001b[1;33m\u001b[0m\u001b[0m\n\u001b[0;32m   5198\u001b[0m         \u001b[1;32mif\u001b[0m \u001b[0mresult\u001b[0m\u001b[1;33m.\u001b[0m\u001b[0mndim\u001b[0m \u001b[1;33m>\u001b[0m \u001b[1;36m1\u001b[0m\u001b[1;33m:\u001b[0m\u001b[1;33m\u001b[0m\u001b[1;33m\u001b[0m\u001b[0m\n\u001b[1;32m-> 5199\u001b[1;33m             \u001b[0mdisallow_ndim_indexing\u001b[0m\u001b[1;33m(\u001b[0m\u001b[0mresult\u001b[0m\u001b[1;33m)\u001b[0m\u001b[1;33m\u001b[0m\u001b[1;33m\u001b[0m\u001b[0m\n\u001b[0m\u001b[0;32m   5200\u001b[0m \u001b[1;33m\u001b[0m\u001b[0m\n\u001b[0;32m   5201\u001b[0m         \u001b[1;31m# NB: Using _constructor._simple_new would break if MultiIndex\u001b[0m\u001b[1;33m\u001b[0m\u001b[1;33m\u001b[0m\u001b[1;33m\u001b[0m\u001b[0m\n",
      "\u001b[1;32mc:\\Users\\HP\\anaconda3\\envs\\learn-env\\lib\\site-packages\\pandas\\core\\indexers\\utils.py\u001b[0m in \u001b[0;36mdisallow_ndim_indexing\u001b[1;34m(result)\u001b[0m\n\u001b[0;32m    341\u001b[0m     \"\"\"\n\u001b[0;32m    342\u001b[0m     \u001b[1;32mif\u001b[0m \u001b[0mnp\u001b[0m\u001b[1;33m.\u001b[0m\u001b[0mndim\u001b[0m\u001b[1;33m(\u001b[0m\u001b[0mresult\u001b[0m\u001b[1;33m)\u001b[0m \u001b[1;33m>\u001b[0m \u001b[1;36m1\u001b[0m\u001b[1;33m:\u001b[0m\u001b[1;33m\u001b[0m\u001b[1;33m\u001b[0m\u001b[0m\n\u001b[1;32m--> 343\u001b[1;33m         raise ValueError(\n\u001b[0m\u001b[0;32m    344\u001b[0m             \u001b[1;34m\"Multi-dimensional indexing (e.g. `obj[:, None]`) is no longer \"\u001b[0m\u001b[1;33m\u001b[0m\u001b[1;33m\u001b[0m\u001b[0m\n\u001b[0;32m    345\u001b[0m             \u001b[1;34m\"supported. Convert to a numpy array before indexing instead.\"\u001b[0m\u001b[1;33m\u001b[0m\u001b[1;33m\u001b[0m\u001b[0m\n",
      "\u001b[1;31mValueError\u001b[0m: Multi-dimensional indexing (e.g. `obj[:, None]`) is no longer supported. Convert to a numpy array before indexing instead."
     ]
    },
    {
     "data": {
      "image/png": "[encoded data removed]",
      "text/plain": [
       "<Figure size 864x864 with 10 Axes>"
      ]
     },
     "metadata": {
      "needs_background": "light"
     },
     "output_type": "display_data"
    }
   ],
   "source": [
    "# Created a function to plot the histogram with the kde in order to inspect the distribution \n",
    "def plot_histograms_with_kde(df, columns):\n",
    "    fig, axs = plt.subplots(ncols=2, nrows=len(columns), figsize=(12, 12))\n",
    "    for i, col in enumerate(columns):\n",
    "        axs[i, 0].hist(df[col], bins=50, color=colors[i])\n",
    "        axs[i, 0].set_title(col)\n",
    "        sns.kdeplot(data=df, x=col, ax=axs[i, 1], color=colors[i])\n",
    "    plt.subplots_adjust(wspace=0.4, hspace=0.4)\n",
    "    plt.show()\n",
    "\n",
    "plot_histograms_with_kde(df, numeric_columns)"
   ]
  },
  {
   "cell_type": "markdown",
   "metadata": {},
   "source": [
    "After conducting the log transformation, we have managed to normalise the numerical columns, the next step is to encode the categorical columns `MIS_Status` and `UrbanRural`. "
   ]
  },
  {
   "cell_type": "markdown",
   "metadata": {},
   "source": [
    "### Encoding\n",
    "\n",
    "As there were categorical columns, we decided to encode the columns, as part of our preparation to conduct the modeling."
   ]
  },
  {
   "cell_type": "code",
   "execution_count": 39,
   "metadata": {},
   "outputs": [],
   "source": [
    "# Encoding DataFrame\n",
    "encoded_df=pd.DataFrame()\n",
    "for column in df.columns:\n",
    "    if df[column].dtype == 'object':\n",
    "        encoded_df[column] = df[column].astype('category').cat.codes\n",
    "    else:\n",
    "        encoded_df[column] = df[column]"
   ]
  },
  {
   "cell_type": "code",
   "execution_count": 40,
   "metadata": {},
   "outputs": [
    {
     "name": "stdout",
     "output_type": "stream",
     "text": [
      "<class 'pandas.core.frame.DataFrame'>\n",
      "RangeIndex: 885456 entries, 0 to 885455\n",
      "Data columns (total 7 columns):\n",
      " #   Column      Non-Null Count   Dtype  \n",
      "---  ------      --------------   -----  \n",
      " 0   GrAppv      885456 non-null  float64\n",
      " 1   Term        885456 non-null  float64\n",
      " 2   NoEmp       885456 non-null  float64\n",
      " 3   NewExist    885456 non-null  float64\n",
      " 4   UrbanRural  885456 non-null  float64\n",
      " 5   Industry    885456 non-null  int8   \n",
      " 6   MIS_Status  885456 non-null  int8   \n",
      "dtypes: float64(5), int8(2)\n",
      "memory usage: 35.5 MB\n"
     ]
    }
   ],
   "source": [
    "# Displaying Info\n",
    "encoded_df.info()"
   ]
  },
  {
   "cell_type": "markdown",
   "metadata": {},
   "source": [
    "As noted in the cell above, all of our columns are now in the format of either a float or integer, therefore we have successfully encoded the categorical columns. \n",
    "\n",
    "In the next sections, we will be splitting our data, resampling and scaling it. "
   ]
  },
  {
   "cell_type": "markdown",
   "metadata": {},
   "source": [
    "### Train Test Split"
   ]
  },
  {
   "cell_type": "code",
   "execution_count": 41,
   "metadata": {},
   "outputs": [],
   "source": [
    "# Extracting Independent Variables\n",
    "X=encoded_df.drop('MIS_Status',axis=1)\n",
    "# Extracting Dependent Values\n",
    "y=encoded_df['MIS_Status']\n",
    "\n",
    "# Splitting the data\n",
    "X_train,X_test,y_train,y_test=train_test_split(X,y,random_state=42,test_size=0.2)"
   ]
  },
  {
   "cell_type": "markdown",
   "metadata": {},
   "source": [
    "### Resampling"
   ]
  },
  {
   "cell_type": "code",
   "execution_count": 42,
   "metadata": {},
   "outputs": [],
   "source": [
    "# Initializing Sampler\n",
    "sampler=RandomOverSampler(sampling_strategy='minority')\n",
    "# Fitting Sampler\n",
    "X_train, y_train = sampler.fit_resample(X_train,y_train)"
   ]
  },
  {
   "cell_type": "code",
   "execution_count": 43,
   "metadata": {},
   "outputs": [
    {
     "data": {
      "text/plain": [
       "MIS_Status\n",
       "1    0.5\n",
       "0    0.5\n",
       "Name: proportion, dtype: float64"
      ]
     },
     "execution_count": 43,
     "metadata": {},
     "output_type": "execute_result"
    }
   ],
   "source": [
    "# Checking Distribution\n",
    "y_train.value_counts(normalize=True)"
   ]
  },
  {
   "cell_type": "markdown",
   "metadata": {},
   "source": [
    "### Scaling"
   ]
  },
  {
   "cell_type": "code",
   "execution_count": 44,
   "metadata": {
    "scrolled": false
   },
   "outputs": [
    {
     "data": {
      "text/html": [
       "<div>\n",
       "<style scoped>\n",
       "    .dataframe tbody tr th:only-of-type {\n",
       "        vertical-align: middle;\n",
       "    }\n",
       "\n",
       "    .dataframe tbody tr th {\n",
       "        vertical-align: top;\n",
       "    }\n",
       "\n",
       "    .dataframe thead th {\n",
       "        text-align: right;\n",
       "    }\n",
       "</style>\n",
       "<table border=\"1\" class=\"dataframe\">\n",
       "  <thead>\n",
       "    <tr style=\"text-align: right;\">\n",
       "      <th></th>\n",
       "      <th>GrAppv</th>\n",
       "      <th>Term</th>\n",
       "      <th>NoEmp</th>\n",
       "      <th>NewExist</th>\n",
       "      <th>UrbanRural</th>\n",
       "      <th>Industry</th>\n",
       "    </tr>\n",
       "  </thead>\n",
       "  <tbody>\n",
       "    <tr>\n",
       "      <th>0</th>\n",
       "      <td>1.949392</td>\n",
       "      <td>0.965235</td>\n",
       "      <td>0.753205</td>\n",
       "      <td>-0.636790</td>\n",
       "      <td>-1.626546</td>\n",
       "      <td>-0.288340</td>\n",
       "    </tr>\n",
       "    <tr>\n",
       "      <th>1</th>\n",
       "      <td>0.652350</td>\n",
       "      <td>0.230493</td>\n",
       "      <td>0.667176</td>\n",
       "      <td>-0.636790</td>\n",
       "      <td>-1.626546</td>\n",
       "      <td>0.216404</td>\n",
       "    </tr>\n",
       "    <tr>\n",
       "      <th>2</th>\n",
       "      <td>1.101921</td>\n",
       "      <td>0.112819</td>\n",
       "      <td>-0.092243</td>\n",
       "      <td>-0.636790</td>\n",
       "      <td>-1.626546</td>\n",
       "      <td>-0.288340</td>\n",
       "    </tr>\n",
       "    <tr>\n",
       "      <th>3</th>\n",
       "      <td>0.663778</td>\n",
       "      <td>0.763894</td>\n",
       "      <td>-0.092243</td>\n",
       "      <td>1.570377</td>\n",
       "      <td>-1.626546</td>\n",
       "      <td>0.384652</td>\n",
       "    </tr>\n",
       "    <tr>\n",
       "      <th>4</th>\n",
       "      <td>-0.987071</td>\n",
       "      <td>0.230493</td>\n",
       "      <td>-0.283564</td>\n",
       "      <td>1.570377</td>\n",
       "      <td>0.600421</td>\n",
       "      <td>0.384652</td>\n",
       "    </tr>\n",
       "  </tbody>\n",
       "</table>\n",
       "</div>"
      ],
      "text/plain": [
       "     GrAppv      Term     NoEmp  NewExist  UrbanRural  Industry\n",
       "0  1.949392  0.965235  0.753205 -0.636790   -1.626546 -0.288340\n",
       "1  0.652350  0.230493  0.667176 -0.636790   -1.626546  0.216404\n",
       "2  1.101921  0.112819 -0.092243 -0.636790   -1.626546 -0.288340\n",
       "3  0.663778  0.763894 -0.092243  1.570377   -1.626546  0.384652\n",
       "4 -0.987071  0.230493 -0.283564  1.570377    0.600421  0.384652"
      ]
     },
     "execution_count": 44,
     "metadata": {},
     "output_type": "execute_result"
    }
   ],
   "source": [
    "from sklearn.preprocessing import StandardScaler\n",
    "# Initializing Scaler\n",
    "scaler=StandardScaler()\n",
    "# Fitting Scaler\n",
    "scaler.fit(X_train)\n",
    "# Transforming Data\n",
    "columns=['GrAppv', 'Term', 'NoEmp','NewExist', 'UrbanRural', 'Industry']\n",
    "scaled_X_train=pd.DataFrame(scaler.transform(X_train),columns=columns)\n",
    "scaled_X_test=pd.DataFrame(scaler.transform(X_test),columns=columns)\n",
    "\n",
    "scaled_X_test.head()"
   ]
  },
  {
   "cell_type": "markdown",
   "metadata": {},
   "source": [
    "## <b> Modeling\n",
    "\n"
   ]
  },
  {
   "cell_type": "markdown",
   "metadata": {},
   "source": [
    "#### Expected Input \n",
    "1. Amount of Loan\n",
    "2. Loan Repayment Period\n",
    "3. Pay Previous Loan Status\n",
    "4. No.of Employees \n",
    "5. Business Location\n",
    "6. Business Industry\n",
    "7. How long has business been in operation\n",
    "\n",
    "#### Expected Output\n",
    "1. Whether the loan is guaranteed or not\n",
    "2. Next steps according to the outcome of the result : if <b>rejected</b> they will receive certain resources ; if <b> approved </b> they will proceed to upload the necessary documents to continue with the application. "
   ]
  },
  {
   "cell_type": "markdown",
   "metadata": {},
   "source": [
    "**Models used included the following:**\n",
    "\n",
    "`logistic regression`- This is the baseline model\n",
    "\n",
    "`decision tree` \n",
    "\n",
    "`random forest`\n",
    "\n",
    "`support vector machine`\n",
    "\n",
    "`XGBoost`\n",
    "\n",
    "`neural network`"
   ]
  },
  {
   "cell_type": "markdown",
   "metadata": {},
   "source": [
    "### <b> <span style=\"color:teal\">Logistic Regression</span>"
   ]
  },
  {
   "cell_type": "code",
   "execution_count": 45,
   "metadata": {
    "scrolled": true
   },
   "outputs": [
    {
     "name": "stdout",
     "output_type": "stream",
     "text": [
      "Train Accuracy: 0.7714514808126566\n",
      "Test Accuracy: 0.7664434305332821\n"
     ]
    }
   ],
   "source": [
    "# Creates an instance of the logistic regression model\n",
    "logreg_model = LogisticRegression()\n",
    "\n",
    "# Trains the model on the scaled training data\n",
    "logreg_model.fit(scaled_X_train, y_train)\n",
    "\n",
    "# Predicts on the scaled test data\n",
    "train_pred = logreg_model.predict(scaled_X_train)\n",
    "test_pred = logreg_model.predict(scaled_X_test)\n",
    "\n",
    "# Evaluates the model on the scaled test data\n",
    "train_accuracy = accuracy_score(train_pred, y_train)\n",
    "test_accuracy = accuracy_score(test_pred, y_test)\n",
    "print('Train Accuracy:', train_accuracy)\n",
    "print('Test Accuracy:' , test_accuracy)"
   ]
  },
  {
   "cell_type": "markdown",
   "metadata": {},
   "source": [
    "Based on our success metric of at least 85% accuracy, the baseline model does not achieve it, therefore we proceeded to try and explore other models to see if the accuracy improves."
   ]
  },
  {
   "cell_type": "markdown",
   "metadata": {},
   "source": [
    "### <b> <span style=\"color:teal\">Decision Tree</span>\n"
   ]
  },
  {
   "cell_type": "code",
   "execution_count": 46,
   "metadata": {
    "scrolled": true
   },
   "outputs": [
    {
     "name": "stdout",
     "output_type": "stream",
     "text": [
      "Train Accuracy: 0.9831093467839483\n",
      "Test Accuracy: 0.8944334018476272\n"
     ]
    }
   ],
   "source": [
    "# Create and train the decision tree model\n",
    "tree_model = DecisionTreeClassifier()\n",
    "tree_model.fit(scaled_X_train, y_train)\n",
    "\n",
    "# Predicting on scaled data\n",
    "train_pred = tree_model.predict(scaled_X_train)\n",
    "test_pred = tree_model.predict(scaled_X_test)\n",
    "\n",
    "# Evaluate the model on the scaled test data\n",
    "train_accuracy = accuracy_score(train_pred, y_train)\n",
    "test_accuracy = accuracy_score(test_pred, y_test)\n",
    "print('Train Accuracy:', train_accuracy)\n",
    "print('Test Accuracy:' , test_accuracy)"
   ]
  },
  {
   "cell_type": "markdown",
   "metadata": {},
   "source": [
    "### <b> <span style=\"color:teal\">Random Forest </span>\n"
   ]
  },
  {
   "cell_type": "code",
   "execution_count": 47,
   "metadata": {},
   "outputs": [
    {
     "name": "stdout",
     "output_type": "stream",
     "text": [
      "Train Accuracy: 0.8749910051296461\n",
      "Test Accuracy: 0.8782553700901227\n"
     ]
    }
   ],
   "source": [
    "# Initializing Random Forest Classifier\n",
    "rf_model = RandomForestClassifier(n_estimators=100, max_depth=10)\n",
    "\n",
    "# Fitting the model\n",
    "rf_model.fit(scaled_X_train, y_train)\n",
    "\n",
    "# Making Predictions\n",
    "train_pred = rf_model.predict(scaled_X_train)\n",
    "test_pred = rf_model.predict(scaled_X_test)\n",
    "\n",
    "# Evaluate the model on the scaled test data\n",
    "train_accuracy = accuracy_score(train_pred, y_train)\n",
    "test_accuracy = accuracy_score(test_pred, y_test)\n",
    "print('Train Accuracy:', train_accuracy)\n",
    "print('Test Accuracy:' , test_accuracy)"
   ]
  },
  {
   "cell_type": "markdown",
   "metadata": {},
   "source": [
    "### <b> <span style=\"color:teal\">Support Vector Machine</span>\n"
   ]
  },
  {
   "cell_type": "code",
   "execution_count": 48,
   "metadata": {
    "scrolled": true
   },
   "outputs": [
    {
     "name": "stdout",
     "output_type": "stream",
     "text": [
      "Best Parameters: {'alpha': 0.0001, 'penalty': 'l2'}\n",
      "Best Score: 0.6974262721476523\n"
     ]
    }
   ],
   "source": [
    "# Creating an instance of SGDClassifier with the 'hinge' loss function\n",
    "svm = SGDClassifier(loss='hinge')\n",
    "\n",
    "# Defining Parameter Grid\n",
    "param_grid = {\n",
    "    'alpha': [0.0001, 0.001, 0.01],\n",
    "    'penalty': ['l2', 'l1']\n",
    "}\n",
    "\n",
    "# Perform grid search with cross-validation\n",
    "grid_search = GridSearchCV(svm, param_grid, cv=5)\n",
    "grid_search.fit(scaled_X_train, y_train)\n",
    "\n",
    "# Get the best parameters and best score\n",
    "best_params = grid_search.best_params_\n",
    "best_score = grid_search.best_score_\n",
    "\n",
    "print(\"Best Parameters:\", best_params)\n",
    "print(\"Best Score:\", best_score)"
   ]
  },
  {
   "cell_type": "code",
   "execution_count": 49,
   "metadata": {},
   "outputs": [
    {
     "name": "stdout",
     "output_type": "stream",
     "text": [
      "Training Accuracy: 0.6905970195282919\n",
      "Test Accuracy: 0.6177410611433605\n"
     ]
    }
   ],
   "source": [
    "# Use the best model obtained from grid search\n",
    "best_model = grid_search.best_estimator_\n",
    "\n",
    "# Predict on the scaled test data\n",
    "y_pred_test = best_model.predict(scaled_X_test)\n",
    "\n",
    "# Predict on the scaled training data\n",
    "y_pred_train = best_model.predict(scaled_X_train)\n",
    "\n",
    "# Calculate the accuracy of the model on the training data\n",
    "accuracy_train = accuracy_score( y_train, y_pred_train)\n",
    "print(\"Training Accuracy:\", accuracy_train)\n",
    "\n",
    "# Calculate the accuracy of the model on the test data\n",
    "accuracy_test = accuracy_score(y_test, y_pred_test)\n",
    "print(\"Test Accuracy:\", accuracy_test)"
   ]
  },
  {
   "cell_type": "markdown",
   "metadata": {},
   "source": [
    "### <b> <span style=\"color:teal\">XGBoost</span>"
   ]
  },
  {
   "cell_type": "code",
   "execution_count": 50,
   "metadata": {
    "scrolled": true
   },
   "outputs": [
    {
     "name": "stdout",
     "output_type": "stream",
     "text": [
      "Train Accuracy: 0.9121552394691484\n",
      "Test Accuracy: 0.9078275698506991\n"
     ]
    }
   ],
   "source": [
    "# Create an instance of the XGBoostModel class\n",
    "xgboost_model = XGBClassifier()\n",
    "\n",
    "# Train the model\n",
    "xgboost_model.fit(scaled_X_train, y_train)\n",
    "\n",
    "# Evaluate the model on the train and test set\n",
    "train_pred = xgboost_model.predict(scaled_X_train)\n",
    "test_pred = xgboost_model.predict(scaled_X_test)\n",
    "\n",
    "# Evaluate the model on the scaled test data\n",
    "train_accuracy = accuracy_score(train_pred, y_train)\n",
    "test_accuracy = accuracy_score(test_pred, y_test)\n",
    "print('Train Accuracy:', train_accuracy)\n",
    "print('Test Accuracy:' , test_accuracy)"
   ]
  },
  {
   "cell_type": "markdown",
   "metadata": {},
   "source": [
    "### <b> <span style=\"color:teal\">Neural Network</span>\n"
   ]
  },
  {
   "cell_type": "code",
   "execution_count": 51,
   "metadata": {
    "scrolled": true
   },
   "outputs": [],
   "source": [
    "# # Initializing network\n",
    "# network = Sequential()\n",
    "\n",
    "# # Adding Layers\n",
    "# network.add(Flatten(input_shape=(6, 1))) # Flatten 2D image to 1D vector\n",
    "# network.add(Dense(328, activation='relu'))\n",
    "# network.add(Dense(128,activation='relu'))\n",
    "# network.add(Dense(64,activation='relu'))\n",
    "# network.add(Dense(128,activation='relu'))\n",
    "# network.add(Dense(1, activation='sigmoid'))\n",
    "\n",
    "# # Compiling network\n",
    "# network.compile(loss='binary_crossentropy',\n",
    "#               optimizer='adam',\n",
    "#               metrics=['accuracy'])\n",
    "# network.fit(scaled_X_train, y_train, epochs=20, batch_size=32, validation_split=0.1)\n",
    "\n",
    "# # Making binary predictions\n",
    "# y_pred = network.predict(scaled_X_test)\n",
    "# y_pred_binary = (y_pred > 0.5).astype(int)"
   ]
  },
  {
   "cell_type": "code",
   "execution_count": 52,
   "metadata": {
    "scrolled": true
   },
   "outputs": [],
   "source": [
    "# from sklearn.metrics import accuracy_score\n",
    "# accuracy_score(y_pred_binary,y_test)"
   ]
  },
  {
   "cell_type": "markdown",
   "metadata": {},
   "source": [
    "## <b> Model Selection </b>\n",
    "\n",
    "Upon running our models, we noted that there was no significant difference when we attempted to tune them, therefore for the sake of readability, we decided to remove the tuned models from this notebook. \n",
    "\n",
    "We therefore concluded that the best performing model was XGBoost, as it has a Test accuracy of upto <b> 91% </b>"
   ]
  },
  {
   "cell_type": "markdown",
   "metadata": {},
   "source": [
    "### Pipeline \n",
    "\n",
    "In the preparation to deploy our model on [Streamlit](https://streamlit.io/), we built a pipeline that uses the trained XGBoost model, we then proceeded to create a pickle file. "
   ]
  },
  {
   "cell_type": "code",
   "execution_count": 53,
   "metadata": {},
   "outputs": [],
   "source": [
    "# Declaring the steps in our pipeline \n",
    "pipeline=Pipeline([\n",
    "    ('scaler',StandardScaler()),\n",
    "    ('model', XGBClassifier())\n",
    "])"
   ]
  },
  {
   "cell_type": "code",
   "execution_count": 54,
   "metadata": {
    "scrolled": false
   },
   "outputs": [
    {
     "data": {
      "text/html": [
       "<style>#sk-container-id-1 {color: black;background-color: white;}#sk-container-id-1 pre{padding: 0;}#sk-container-id-1 div.sk-toggleable {background-color: white;}#sk-container-id-1 label.sk-toggleable__label {cursor: pointer;display: block;width: 100%;margin-bottom: 0;padding: 0.3em;box-sizing: border-box;text-align: center;}#sk-container-id-1 label.sk-toggleable__label-arrow:before {content: \"▸\";float: left;margin-right: 0.25em;color: #696969;}#sk-container-id-1 label.sk-toggleable__label-arrow:hover:before {color: black;}#sk-container-id-1 div.sk-estimator:hover label.sk-toggleable__label-arrow:before {color: black;}#sk-container-id-1 div.sk-toggleable__content {max-height: 0;max-width: 0;overflow: hidden;text-align: left;background-color: #f0f8ff;}#sk-container-id-1 div.sk-toggleable__content pre {margin: 0.2em;color: black;border-radius: 0.25em;background-color: #f0f8ff;}#sk-container-id-1 input.sk-toggleable__control:checked~div.sk-toggleable__content {max-height: 200px;max-width: 100%;overflow: auto;}#sk-container-id-1 input.sk-toggleable__control:checked~label.sk-toggleable__label-arrow:before {content: \"▾\";}#sk-container-id-1 div.sk-estimator input.sk-toggleable__control:checked~label.sk-toggleable__label {background-color: #d4ebff;}#sk-container-id-1 div.sk-label input.sk-toggleable__control:checked~label.sk-toggleable__label {background-color: #d4ebff;}#sk-container-id-1 input.sk-hidden--visually {border: 0;clip: rect(1px 1px 1px 1px);clip: rect(1px, 1px, 1px, 1px);height: 1px;margin: -1px;overflow: hidden;padding: 0;position: absolute;width: 1px;}#sk-container-id-1 div.sk-estimator {font-family: monospace;background-color: #f0f8ff;border: 1px dotted black;border-radius: 0.25em;box-sizing: border-box;margin-bottom: 0.5em;}#sk-container-id-1 div.sk-estimator:hover {background-color: #d4ebff;}#sk-container-id-1 div.sk-parallel-item::after {content: \"\";width: 100%;border-bottom: 1px solid gray;flex-grow: 1;}#sk-container-id-1 div.sk-label:hover label.sk-toggleable__label {background-color: #d4ebff;}#sk-container-id-1 div.sk-serial::before {content: \"\";position: absolute;border-left: 1px solid gray;box-sizing: border-box;top: 0;bottom: 0;left: 50%;z-index: 0;}#sk-container-id-1 div.sk-serial {display: flex;flex-direction: column;align-items: center;background-color: white;padding-right: 0.2em;padding-left: 0.2em;position: relative;}#sk-container-id-1 div.sk-item {position: relative;z-index: 1;}#sk-container-id-1 div.sk-parallel {display: flex;align-items: stretch;justify-content: center;background-color: white;position: relative;}#sk-container-id-1 div.sk-item::before, #sk-container-id-1 div.sk-parallel-item::before {content: \"\";position: absolute;border-left: 1px solid gray;box-sizing: border-box;top: 0;bottom: 0;left: 50%;z-index: -1;}#sk-container-id-1 div.sk-parallel-item {display: flex;flex-direction: column;z-index: 1;position: relative;background-color: white;}#sk-container-id-1 div.sk-parallel-item:first-child::after {align-self: flex-end;width: 50%;}#sk-container-id-1 div.sk-parallel-item:last-child::after {align-self: flex-start;width: 50%;}#sk-container-id-1 div.sk-parallel-item:only-child::after {width: 0;}#sk-container-id-1 div.sk-dashed-wrapped {border: 1px dashed gray;margin: 0 0.4em 0.5em 0.4em;box-sizing: border-box;padding-bottom: 0.4em;background-color: white;}#sk-container-id-1 div.sk-label label {font-family: monospace;font-weight: bold;display: inline-block;line-height: 1.2em;}#sk-container-id-1 div.sk-label-container {text-align: center;}#sk-container-id-1 div.sk-container {/* jupyter's `normalize.less` sets `[hidden] { display: none; }` but bootstrap.min.css set `[hidden] { display: none !important; }` so we also need the `!important` here to be able to override the default hidden behavior on the sphinx rendered scikit-learn.org. See: https://github.com/scikit-learn/scikit-learn/issues/21755 */display: inline-block !important;position: relative;}#sk-container-id-1 div.sk-text-repr-fallback {display: none;}</style><div id=\"sk-container-id-1\" class=\"sk-top-container\"><div class=\"sk-text-repr-fallback\"><pre>Pipeline(steps=[(&#x27;scaler&#x27;, StandardScaler()),\n",
       "                (&#x27;model&#x27;,\n",
       "                 XGBClassifier(base_score=None, booster=None, callbacks=None,\n",
       "                               colsample_bylevel=None, colsample_bynode=None,\n",
       "                               colsample_bytree=None,\n",
       "                               early_stopping_rounds=None,\n",
       "                               enable_categorical=False, eval_metric=None,\n",
       "                               feature_types=None, gamma=None, gpu_id=None,\n",
       "                               grow_policy=None, importance_type=None,\n",
       "                               interaction_constraints=None, learning_rate=None,\n",
       "                               max_bin=None, max_cat_threshold=None,\n",
       "                               max_cat_to_onehot=None, max_delta_step=None,\n",
       "                               max_depth=None, max_leaves=None,\n",
       "                               min_child_weight=None, missing=nan,\n",
       "                               monotone_constraints=None, n_estimators=100,\n",
       "                               n_jobs=None, num_parallel_tree=None,\n",
       "                               predictor=None, random_state=None, ...))])</pre><b>In a Jupyter environment, please rerun this cell to show the HTML representation or trust the notebook. <br />On GitHub, the HTML representation is unable to render, please try loading this page with nbviewer.org.</b></div><div class=\"sk-container\" hidden><div class=\"sk-item sk-dashed-wrapped\"><div class=\"sk-label-container\"><div class=\"sk-label sk-toggleable\"><input class=\"sk-toggleable__control sk-hidden--visually\" id=\"sk-estimator-id-1\" type=\"checkbox\" ><label for=\"sk-estimator-id-1\" class=\"sk-toggleable__label sk-toggleable__label-arrow\">Pipeline</label><div class=\"sk-toggleable__content\"><pre>Pipeline(steps=[(&#x27;scaler&#x27;, StandardScaler()),\n",
       "                (&#x27;model&#x27;,\n",
       "                 XGBClassifier(base_score=None, booster=None, callbacks=None,\n",
       "                               colsample_bylevel=None, colsample_bynode=None,\n",
       "                               colsample_bytree=None,\n",
       "                               early_stopping_rounds=None,\n",
       "                               enable_categorical=False, eval_metric=None,\n",
       "                               feature_types=None, gamma=None, gpu_id=None,\n",
       "                               grow_policy=None, importance_type=None,\n",
       "                               interaction_constraints=None, learning_rate=None,\n",
       "                               max_bin=None, max_cat_threshold=None,\n",
       "                               max_cat_to_onehot=None, max_delta_step=None,\n",
       "                               max_depth=None, max_leaves=None,\n",
       "                               min_child_weight=None, missing=nan,\n",
       "                               monotone_constraints=None, n_estimators=100,\n",
       "                               n_jobs=None, num_parallel_tree=None,\n",
       "                               predictor=None, random_state=None, ...))])</pre></div></div></div><div class=\"sk-serial\"><div class=\"sk-item\"><div class=\"sk-estimator sk-toggleable\"><input class=\"sk-toggleable__control sk-hidden--visually\" id=\"sk-estimator-id-2\" type=\"checkbox\" ><label for=\"sk-estimator-id-2\" class=\"sk-toggleable__label sk-toggleable__label-arrow\">StandardScaler</label><div class=\"sk-toggleable__content\"><pre>StandardScaler()</pre></div></div></div><div class=\"sk-item\"><div class=\"sk-estimator sk-toggleable\"><input class=\"sk-toggleable__control sk-hidden--visually\" id=\"sk-estimator-id-3\" type=\"checkbox\" ><label for=\"sk-estimator-id-3\" class=\"sk-toggleable__label sk-toggleable__label-arrow\">XGBClassifier</label><div class=\"sk-toggleable__content\"><pre>XGBClassifier(base_score=None, booster=None, callbacks=None,\n",
       "              colsample_bylevel=None, colsample_bynode=None,\n",
       "              colsample_bytree=None, early_stopping_rounds=None,\n",
       "              enable_categorical=False, eval_metric=None, feature_types=None,\n",
       "              gamma=None, gpu_id=None, grow_policy=None, importance_type=None,\n",
       "              interaction_constraints=None, learning_rate=None, max_bin=None,\n",
       "              max_cat_threshold=None, max_cat_to_onehot=None,\n",
       "              max_delta_step=None, max_depth=None, max_leaves=None,\n",
       "              min_child_weight=None, missing=nan, monotone_constraints=None,\n",
       "              n_estimators=100, n_jobs=None, num_parallel_tree=None,\n",
       "              predictor=None, random_state=None, ...)</pre></div></div></div></div></div></div></div>"
      ],
      "text/plain": [
       "Pipeline(steps=[('scaler', StandardScaler()),\n",
       "                ('model',\n",
       "                 XGBClassifier(base_score=None, booster=None, callbacks=None,\n",
       "                               colsample_bylevel=None, colsample_bynode=None,\n",
       "                               colsample_bytree=None,\n",
       "                               early_stopping_rounds=None,\n",
       "                               enable_categorical=False, eval_metric=None,\n",
       "                               feature_types=None, gamma=None, gpu_id=None,\n",
       "                               grow_policy=None, importance_type=None,\n",
       "                               interaction_constraints=None, learning_rate=None,\n",
       "                               max_bin=None, max_cat_threshold=None,\n",
       "                               max_cat_to_onehot=None, max_delta_step=None,\n",
       "                               max_depth=None, max_leaves=None,\n",
       "                               min_child_weight=None, missing=nan,\n",
       "                               monotone_constraints=None, n_estimators=100,\n",
       "                               n_jobs=None, num_parallel_tree=None,\n",
       "                               predictor=None, random_state=None, ...))])"
      ]
     },
     "execution_count": 54,
     "metadata": {},
     "output_type": "execute_result"
    }
   ],
   "source": [
    "# Fitting the pipeline to the training data\n",
    "pipeline.fit(X_train,y_train)"
   ]
  },
  {
   "cell_type": "markdown",
   "metadata": {},
   "source": [
    "### Pickling the pileline"
   ]
  },
  {
   "cell_type": "code",
   "execution_count": 55,
   "metadata": {},
   "outputs": [],
   "source": [
    "# Creating the pickle file for the pipeline\n",
    "import pickle\n",
    "filename = 'pipeline.pkl'\n",
    "pickle.dump(pipeline, open(filename, 'wb'))"
   ]
  },
  {
   "cell_type": "code",
   "execution_count": 56,
   "metadata": {},
   "outputs": [],
   "source": [
    "# Creating a new dataframe to encode the industry column \n",
    "new_df=pd.DataFrame(df.Industry,columns=['Industry'])\n",
    "new_df['Encoded'] = new_df.Industry.astype('category').cat.codes"
   ]
  },
  {
   "cell_type": "code",
   "execution_count": 57,
   "metadata": {
    "scrolled": false
   },
   "outputs": [],
   "source": [
    "unique_industries=list(pd.DataFrame(new_df.Industry.value_counts()).index)"
   ]
  },
  {
   "cell_type": "code",
   "execution_count": 58,
   "metadata": {
    "scrolled": false
   },
   "outputs": [],
   "source": [
    "encoded_df['Industry_raw']=df['Industry']\n",
    "industry_df=encoded_df[['Industry','Industry_raw']]"
   ]
  },
  {
   "cell_type": "code",
   "execution_count": 59,
   "metadata": {},
   "outputs": [],
   "source": [
    "value_dictionary={}\n",
    "for i in range(len(industry_df)):\n",
    "    row=industry_df.iloc[i]\n",
    "    value_dictionary[row.Industry_raw]=row.Industry"
   ]
  },
  {
   "cell_type": "code",
   "execution_count": 60,
   "metadata": {},
   "outputs": [
    {
     "data": {
      "text/plain": [
       "{'Other': 12,\n",
       " 'Construction': 4,\n",
       " 'Prof/Science/Tech': 14,\n",
       " 'Accom/Food_serv': 0,\n",
       " 'Manufacturing': 9,\n",
       " 'Wholesale_trade': 20,\n",
       " 'Retail_trade': 17,\n",
       " 'Other_no_pub': 13,\n",
       " 'Healthcare/Social_assist': 7,\n",
       " 'Admin_sup/Waste_Mgmt_Rem': 1,\n",
       " 'Arts/Entertain/Rec': 3,\n",
       " 'RE/Rental/Lease': 16,\n",
       " 'Information': 8,\n",
       " 'Ag/For/Fish/Hunt': 2,\n",
       " 'Educational': 5,\n",
       " 'Trans/Ware': 18,\n",
       " 'Min/Quar/Oil_Gas_ext': 11,\n",
       " 'Mgmt_comp': 10,\n",
       " 'Utilities': 19,\n",
       " 'Finance/Insurance': 6,\n",
       " 'Public_Admin': 15}"
      ]
     },
     "execution_count": 60,
     "metadata": {},
     "output_type": "execute_result"
    }
   ],
   "source": [
    "value_dictionary # Showing the Industry and the corresponding encoded value "
   ]
  },
  {
   "cell_type": "markdown",
   "metadata": {},
   "source": [
    "## <b> Conclusion </b>\n",
    "\n",
    "In conclusion, the enhanced predictive capabilities of the SBA have revolutionized the loan application process, enabling automated filtration and empowering clients to identify crucial factors influencing their loan eligibility. This advancement not only streamlines the lending process but also fosters a supportive environment for entrepreneurs and small businesses. By encouraging more individuals to seek SBA support, this initiative contributes to reducing unemployment rates and fostering economic growth through increased business opportunities and job creation."
   ]
  },
  {
   "cell_type": "markdown",
   "metadata": {},
   "source": [
    "## <b> Recommendations </b>\n",
    "Based on the analysis that we have done, we came up with five main areas in which the SBA can dive deeper into, these areas included:\n",
    "\n",
    "<b>1. Loan Term </b>\n",
    "\n",
    "The SBA should consider advising the small businesses on the appropriate loan amount to apply for based on the loan amount and term distribution. This can be achieved by identifying the most common loan sizes and advising small businesses to apply for loans within those ranges. Additionally, we recommend that the SBA identifies the most common loan terms and set loan term limits or eligibility criteria based on those terms.\n",
    "\n",
    "<b>2. Size of the Business </b>\n",
    "\n",
    "We advise the SBA to look into the loan amount ranges and/or eligibility criteria for businesses of different sizes based on the employee distribution. Through this, we recommend that they set loan amount limits that would be appropriate for different business sizes.\n",
    "\n",
    "<b>3. Location </b>\n",
    "\n",
    "We would recommend the SBA to advise the small businesses to seek loans that are appropriate for their location and the needs of their local community. Additionally, the SBA should ensure the distribution of loans is easily accessible to those in the Rural/Semi-urban regions, in order to encourage development\n",
    "\n",
    "<b>4. Business Existence Period </b>\n",
    "\n",
    "Considering whether the business has been in existence for a long or short period of time, we recommend that the SBA advises the businesses seeking loans to apply for loans that are in alignment with their growth plans, additionally, the SBA can recommend and/or implement new training and mentorship programs to help the businesses achieve their targets.\n",
    "\n",
    "<b>5. Industry </b>\n",
    "\n",
    "Finally, we would suggest that the SBA advises their members to apply for loans that are  tailored to the specific needs of their industry. "
   ]
  }
 ],
 "metadata": {
  "kernelspec": {
   "display_name": "Python (learn-env)",
   "language": "python",
   "name": "learn-env"
  },
  "language_info": {
   "codemirror_mode": {
    "name": "ipython",
    "version": 3
   },
   "file_extension": ".py",
   "mimetype": "text/x-python",
   "name": "python",
   "nbconvert_exporter": "python",
   "pygments_lexer": "ipython3",
   "version": "3.8.5"
  }
 },
 "nbformat": 4,
 "nbformat_minor": 4
}
